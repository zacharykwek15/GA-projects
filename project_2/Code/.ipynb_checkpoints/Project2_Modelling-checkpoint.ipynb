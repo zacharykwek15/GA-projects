{
 "cells": [
  {
   "cell_type": "markdown",
   "id": "593bd1af",
   "metadata": {},
   "source": [
    "<img src=\"http://imgur.com/1ZcRyrc.png\" style=\"float: left; margin: 20px; height: 55px\">\n",
    "\n",
    "# Project 2"
   ]
  },
  {
   "cell_type": "markdown",
   "id": "d5fe3dc5",
   "metadata": {},
   "source": [
    "### Problem Statement\n",
    "\n",
    "I am part of a data team in a real estate company and we have been tasked to build a model that allows real estate agents to predict an accruate pricing for their clients. The model will also add extra values by providing features that would lead to highers sales price. We aim to develop a regression model that can accruately predict home prices in Ames, lowa."
   ]
  },
  {
   "cell_type": "markdown",
   "id": "53c99edf",
   "metadata": {},
   "source": [
    "## Contents:\n",
    "- [Import and reading file](#Import-and-reading-file)\n",
    "- [Modelling](#Modelling)\n",
    "- [Data Dictionary](#Data-Dictionary)\n",
    "- [Evaluation](#Evaluation)\n",
    "- [Conclusions and Recommendations](#Conclusions-and-Recommendations)"
   ]
  },
  {
   "cell_type": "markdown",
   "id": "f61bc07a",
   "metadata": {},
   "source": [
    "## Codes"
   ]
  },
  {
   "cell_type": "code",
   "execution_count": 38,
   "id": "e93135bf",
   "metadata": {},
   "outputs": [],
   "source": [
    "#Imports:\n",
    "import numpy as np\n",
    "import pandas as pd\n",
    "import matplotlib.pyplot as plt\n",
    "import seaborn as sns\n",
    "from sklearn import metrics\n",
    "from sklearn.linear_model import LinearRegression, LassoCV, RidgeCV\n",
    "from sklearn.preprocessing import PolynomialFeatures, StandardScaler\n",
    "from sklearn.model_selection import train_test_split, cross_val_score, cross_val_predict\n",
    "from sklearn.metrics import r2_score\n",
    "from sklearn.linear_model import Ridge, Lasso\n",
    "from sklearn.metrics import mean_squared_error\n"
   ]
  },
  {
   "cell_type": "code",
   "execution_count": 39,
   "id": "a0165e4d",
   "metadata": {},
   "outputs": [],
   "source": [
    "#Setting default display settings\n",
    "pd.set_option('display.max_rows', 30)\n",
    "pd.set_option('display.max_columns', 60)"
   ]
  },
  {
   "cell_type": "markdown",
   "id": "dd03062a",
   "metadata": {},
   "source": [
    "## Import and reading file"
   ]
  },
  {
   "cell_type": "code",
   "execution_count": 40,
   "id": "04ffa040",
   "metadata": {
    "scrolled": true
   },
   "outputs": [
    {
     "data": {
      "text/html": [
       "<div>\n",
       "<style scoped>\n",
       "    .dataframe tbody tr th:only-of-type {\n",
       "        vertical-align: middle;\n",
       "    }\n",
       "\n",
       "    .dataframe tbody tr th {\n",
       "        vertical-align: top;\n",
       "    }\n",
       "\n",
       "    .dataframe thead th {\n",
       "        text-align: right;\n",
       "    }\n",
       "</style>\n",
       "<table border=\"1\" class=\"dataframe\">\n",
       "  <thead>\n",
       "    <tr style=\"text-align: right;\">\n",
       "      <th></th>\n",
       "      <th>id</th>\n",
       "      <th>overall_qual</th>\n",
       "      <th>year_built</th>\n",
       "      <th>year_remod/add</th>\n",
       "      <th>mas_vnr_area</th>\n",
       "      <th>exter_qual</th>\n",
       "      <th>bsmtfin_sf_1</th>\n",
       "      <th>total_bsmt_sf</th>\n",
       "      <th>1st_flr_sf</th>\n",
       "      <th>gr_liv_area</th>\n",
       "      <th>full_bath</th>\n",
       "      <th>kitchen_qual</th>\n",
       "      <th>totrms_abvgrd</th>\n",
       "      <th>fireplaces</th>\n",
       "      <th>garage_cars</th>\n",
       "      <th>garage_area</th>\n",
       "      <th>saleprice</th>\n",
       "      <th>lifespan</th>\n",
       "      <th>foundation_BrkTil</th>\n",
       "      <th>foundation_CBlock</th>\n",
       "      <th>foundation_PConc</th>\n",
       "      <th>foundation_Slab</th>\n",
       "      <th>foundation_Stone</th>\n",
       "      <th>foundation_Wood</th>\n",
       "      <th>mas_vnr_type_BrkCmn</th>\n",
       "      <th>mas_vnr_type_BrkFace</th>\n",
       "      <th>mas_vnr_type_None</th>\n",
       "      <th>mas_vnr_type_Stone</th>\n",
       "    </tr>\n",
       "  </thead>\n",
       "  <tbody>\n",
       "    <tr>\n",
       "      <th>0</th>\n",
       "      <td>109</td>\n",
       "      <td>6</td>\n",
       "      <td>1976</td>\n",
       "      <td>2005</td>\n",
       "      <td>289.0</td>\n",
       "      <td>2</td>\n",
       "      <td>533.0</td>\n",
       "      <td>725.0</td>\n",
       "      <td>725</td>\n",
       "      <td>1479</td>\n",
       "      <td>2</td>\n",
       "      <td>2</td>\n",
       "      <td>6</td>\n",
       "      <td>0</td>\n",
       "      <td>2.0</td>\n",
       "      <td>475.0</td>\n",
       "      <td>130500</td>\n",
       "      <td>34</td>\n",
       "      <td>0</td>\n",
       "      <td>1</td>\n",
       "      <td>0</td>\n",
       "      <td>0</td>\n",
       "      <td>0</td>\n",
       "      <td>0</td>\n",
       "      <td>0</td>\n",
       "      <td>1</td>\n",
       "      <td>0</td>\n",
       "      <td>0</td>\n",
       "    </tr>\n",
       "    <tr>\n",
       "      <th>1</th>\n",
       "      <td>544</td>\n",
       "      <td>7</td>\n",
       "      <td>1996</td>\n",
       "      <td>1997</td>\n",
       "      <td>132.0</td>\n",
       "      <td>2</td>\n",
       "      <td>637.0</td>\n",
       "      <td>913.0</td>\n",
       "      <td>913</td>\n",
       "      <td>2122</td>\n",
       "      <td>2</td>\n",
       "      <td>2</td>\n",
       "      <td>8</td>\n",
       "      <td>1</td>\n",
       "      <td>2.0</td>\n",
       "      <td>559.0</td>\n",
       "      <td>220000</td>\n",
       "      <td>13</td>\n",
       "      <td>0</td>\n",
       "      <td>0</td>\n",
       "      <td>1</td>\n",
       "      <td>0</td>\n",
       "      <td>0</td>\n",
       "      <td>0</td>\n",
       "      <td>0</td>\n",
       "      <td>1</td>\n",
       "      <td>0</td>\n",
       "      <td>0</td>\n",
       "    </tr>\n",
       "    <tr>\n",
       "      <th>2</th>\n",
       "      <td>153</td>\n",
       "      <td>5</td>\n",
       "      <td>1953</td>\n",
       "      <td>2007</td>\n",
       "      <td>0.0</td>\n",
       "      <td>1</td>\n",
       "      <td>731.0</td>\n",
       "      <td>1057.0</td>\n",
       "      <td>1057</td>\n",
       "      <td>1057</td>\n",
       "      <td>1</td>\n",
       "      <td>2</td>\n",
       "      <td>5</td>\n",
       "      <td>0</td>\n",
       "      <td>1.0</td>\n",
       "      <td>246.0</td>\n",
       "      <td>109000</td>\n",
       "      <td>57</td>\n",
       "      <td>0</td>\n",
       "      <td>1</td>\n",
       "      <td>0</td>\n",
       "      <td>0</td>\n",
       "      <td>0</td>\n",
       "      <td>0</td>\n",
       "      <td>0</td>\n",
       "      <td>0</td>\n",
       "      <td>1</td>\n",
       "      <td>0</td>\n",
       "    </tr>\n",
       "    <tr>\n",
       "      <th>3</th>\n",
       "      <td>318</td>\n",
       "      <td>5</td>\n",
       "      <td>2006</td>\n",
       "      <td>2007</td>\n",
       "      <td>0.0</td>\n",
       "      <td>1</td>\n",
       "      <td>0.0</td>\n",
       "      <td>384.0</td>\n",
       "      <td>744</td>\n",
       "      <td>1444</td>\n",
       "      <td>2</td>\n",
       "      <td>1</td>\n",
       "      <td>7</td>\n",
       "      <td>0</td>\n",
       "      <td>2.0</td>\n",
       "      <td>400.0</td>\n",
       "      <td>174000</td>\n",
       "      <td>4</td>\n",
       "      <td>0</td>\n",
       "      <td>0</td>\n",
       "      <td>1</td>\n",
       "      <td>0</td>\n",
       "      <td>0</td>\n",
       "      <td>0</td>\n",
       "      <td>0</td>\n",
       "      <td>0</td>\n",
       "      <td>1</td>\n",
       "      <td>0</td>\n",
       "    </tr>\n",
       "    <tr>\n",
       "      <th>4</th>\n",
       "      <td>255</td>\n",
       "      <td>6</td>\n",
       "      <td>1900</td>\n",
       "      <td>1993</td>\n",
       "      <td>0.0</td>\n",
       "      <td>1</td>\n",
       "      <td>0.0</td>\n",
       "      <td>676.0</td>\n",
       "      <td>831</td>\n",
       "      <td>1445</td>\n",
       "      <td>2</td>\n",
       "      <td>1</td>\n",
       "      <td>6</td>\n",
       "      <td>0</td>\n",
       "      <td>2.0</td>\n",
       "      <td>484.0</td>\n",
       "      <td>138500</td>\n",
       "      <td>110</td>\n",
       "      <td>0</td>\n",
       "      <td>0</td>\n",
       "      <td>1</td>\n",
       "      <td>0</td>\n",
       "      <td>0</td>\n",
       "      <td>0</td>\n",
       "      <td>0</td>\n",
       "      <td>0</td>\n",
       "      <td>1</td>\n",
       "      <td>0</td>\n",
       "    </tr>\n",
       "  </tbody>\n",
       "</table>\n",
       "</div>"
      ],
      "text/plain": [
       "    id  overall_qual  year_built  year_remod/add  mas_vnr_area  exter_qual  \\\n",
       "0  109             6        1976            2005         289.0           2   \n",
       "1  544             7        1996            1997         132.0           2   \n",
       "2  153             5        1953            2007           0.0           1   \n",
       "3  318             5        2006            2007           0.0           1   \n",
       "4  255             6        1900            1993           0.0           1   \n",
       "\n",
       "   bsmtfin_sf_1  total_bsmt_sf  1st_flr_sf  gr_liv_area  full_bath  \\\n",
       "0         533.0          725.0         725         1479          2   \n",
       "1         637.0          913.0         913         2122          2   \n",
       "2         731.0         1057.0        1057         1057          1   \n",
       "3           0.0          384.0         744         1444          2   \n",
       "4           0.0          676.0         831         1445          2   \n",
       "\n",
       "   kitchen_qual  totrms_abvgrd  fireplaces  garage_cars  garage_area  \\\n",
       "0             2              6           0          2.0        475.0   \n",
       "1             2              8           1          2.0        559.0   \n",
       "2             2              5           0          1.0        246.0   \n",
       "3             1              7           0          2.0        400.0   \n",
       "4             1              6           0          2.0        484.0   \n",
       "\n",
       "   saleprice  lifespan  foundation_BrkTil  foundation_CBlock  \\\n",
       "0     130500        34                  0                  1   \n",
       "1     220000        13                  0                  0   \n",
       "2     109000        57                  0                  1   \n",
       "3     174000         4                  0                  0   \n",
       "4     138500       110                  0                  0   \n",
       "\n",
       "   foundation_PConc  foundation_Slab  foundation_Stone  foundation_Wood  \\\n",
       "0                 0                0                 0                0   \n",
       "1                 1                0                 0                0   \n",
       "2                 0                0                 0                0   \n",
       "3                 1                0                 0                0   \n",
       "4                 1                0                 0                0   \n",
       "\n",
       "   mas_vnr_type_BrkCmn  mas_vnr_type_BrkFace  mas_vnr_type_None  \\\n",
       "0                    0                     1                  0   \n",
       "1                    0                     1                  0   \n",
       "2                    0                     0                  1   \n",
       "3                    0                     0                  1   \n",
       "4                    0                     0                  1   \n",
       "\n",
       "   mas_vnr_type_Stone  \n",
       "0                   0  \n",
       "1                   0  \n",
       "2                   0  \n",
       "3                   0  \n",
       "4                   0  "
      ]
     },
     "execution_count": 40,
     "metadata": {},
     "output_type": "execute_result"
    }
   ],
   "source": [
    "#Reading housing_data.csv Files\n",
    "housing_data = pd.read_csv('../Code/housing_data.csv' )\n",
    "housing_data.head()\n",
    "\n",
    "\n"
   ]
  },
  {
   "cell_type": "code",
   "execution_count": 41,
   "id": "bcca5fb0",
   "metadata": {},
   "outputs": [
    {
     "data": {
      "text/html": [
       "<div>\n",
       "<style scoped>\n",
       "    .dataframe tbody tr th:only-of-type {\n",
       "        vertical-align: middle;\n",
       "    }\n",
       "\n",
       "    .dataframe tbody tr th {\n",
       "        vertical-align: top;\n",
       "    }\n",
       "\n",
       "    .dataframe thead th {\n",
       "        text-align: right;\n",
       "    }\n",
       "</style>\n",
       "<table border=\"1\" class=\"dataframe\">\n",
       "  <thead>\n",
       "    <tr style=\"text-align: right;\">\n",
       "      <th></th>\n",
       "      <th>id</th>\n",
       "      <th>overall_qual</th>\n",
       "      <th>year_built</th>\n",
       "      <th>year_remod/add</th>\n",
       "      <th>mas_vnr_area</th>\n",
       "      <th>exter_qual</th>\n",
       "      <th>bsmtfin_sf_1</th>\n",
       "      <th>total_bsmt_sf</th>\n",
       "      <th>1st_flr_sf</th>\n",
       "      <th>gr_liv_area</th>\n",
       "      <th>full_bath</th>\n",
       "      <th>kitchen_qual</th>\n",
       "      <th>totrms_abvgrd</th>\n",
       "      <th>fireplaces</th>\n",
       "      <th>garage_cars</th>\n",
       "      <th>garage_area</th>\n",
       "      <th>lifespan</th>\n",
       "      <th>foundation_BrkTil</th>\n",
       "      <th>foundation_CBlock</th>\n",
       "      <th>foundation_PConc</th>\n",
       "      <th>foundation_Slab</th>\n",
       "      <th>foundation_Stone</th>\n",
       "      <th>foundation_Wood</th>\n",
       "      <th>mas_vnr_type_BrkCmn</th>\n",
       "      <th>mas_vnr_type_BrkFace</th>\n",
       "      <th>mas_vnr_type_None</th>\n",
       "      <th>mas_vnr_type_Stone</th>\n",
       "    </tr>\n",
       "  </thead>\n",
       "  <tbody>\n",
       "    <tr>\n",
       "      <th>0</th>\n",
       "      <td>2658</td>\n",
       "      <td>6</td>\n",
       "      <td>1910</td>\n",
       "      <td>1950</td>\n",
       "      <td>0.0</td>\n",
       "      <td>1</td>\n",
       "      <td>0</td>\n",
       "      <td>1020</td>\n",
       "      <td>908</td>\n",
       "      <td>1928</td>\n",
       "      <td>2</td>\n",
       "      <td>0.0</td>\n",
       "      <td>9</td>\n",
       "      <td>0</td>\n",
       "      <td>1</td>\n",
       "      <td>440</td>\n",
       "      <td>96</td>\n",
       "      <td>0</td>\n",
       "      <td>0</td>\n",
       "      <td>0</td>\n",
       "      <td>0</td>\n",
       "      <td>1</td>\n",
       "      <td>0</td>\n",
       "      <td>0</td>\n",
       "      <td>0</td>\n",
       "      <td>1</td>\n",
       "      <td>0</td>\n",
       "    </tr>\n",
       "    <tr>\n",
       "      <th>1</th>\n",
       "      <td>2718</td>\n",
       "      <td>5</td>\n",
       "      <td>1977</td>\n",
       "      <td>1977</td>\n",
       "      <td>0.0</td>\n",
       "      <td>1</td>\n",
       "      <td>0</td>\n",
       "      <td>1967</td>\n",
       "      <td>1967</td>\n",
       "      <td>1967</td>\n",
       "      <td>2</td>\n",
       "      <td>1.0</td>\n",
       "      <td>10</td>\n",
       "      <td>0</td>\n",
       "      <td>2</td>\n",
       "      <td>580</td>\n",
       "      <td>29</td>\n",
       "      <td>0</td>\n",
       "      <td>1</td>\n",
       "      <td>0</td>\n",
       "      <td>0</td>\n",
       "      <td>0</td>\n",
       "      <td>0</td>\n",
       "      <td>0</td>\n",
       "      <td>0</td>\n",
       "      <td>1</td>\n",
       "      <td>0</td>\n",
       "    </tr>\n",
       "    <tr>\n",
       "      <th>2</th>\n",
       "      <td>2414</td>\n",
       "      <td>7</td>\n",
       "      <td>2006</td>\n",
       "      <td>2006</td>\n",
       "      <td>0.0</td>\n",
       "      <td>2</td>\n",
       "      <td>554</td>\n",
       "      <td>654</td>\n",
       "      <td>664</td>\n",
       "      <td>1496</td>\n",
       "      <td>2</td>\n",
       "      <td>2.0</td>\n",
       "      <td>7</td>\n",
       "      <td>1</td>\n",
       "      <td>2</td>\n",
       "      <td>426</td>\n",
       "      <td>0</td>\n",
       "      <td>0</td>\n",
       "      <td>0</td>\n",
       "      <td>1</td>\n",
       "      <td>0</td>\n",
       "      <td>0</td>\n",
       "      <td>0</td>\n",
       "      <td>0</td>\n",
       "      <td>0</td>\n",
       "      <td>1</td>\n",
       "      <td>0</td>\n",
       "    </tr>\n",
       "    <tr>\n",
       "      <th>3</th>\n",
       "      <td>1989</td>\n",
       "      <td>5</td>\n",
       "      <td>1923</td>\n",
       "      <td>2006</td>\n",
       "      <td>0.0</td>\n",
       "      <td>2</td>\n",
       "      <td>0</td>\n",
       "      <td>968</td>\n",
       "      <td>968</td>\n",
       "      <td>968</td>\n",
       "      <td>1</td>\n",
       "      <td>1.0</td>\n",
       "      <td>5</td>\n",
       "      <td>0</td>\n",
       "      <td>2</td>\n",
       "      <td>480</td>\n",
       "      <td>84</td>\n",
       "      <td>0</td>\n",
       "      <td>1</td>\n",
       "      <td>0</td>\n",
       "      <td>0</td>\n",
       "      <td>0</td>\n",
       "      <td>0</td>\n",
       "      <td>0</td>\n",
       "      <td>0</td>\n",
       "      <td>1</td>\n",
       "      <td>0</td>\n",
       "    </tr>\n",
       "    <tr>\n",
       "      <th>4</th>\n",
       "      <td>625</td>\n",
       "      <td>6</td>\n",
       "      <td>1963</td>\n",
       "      <td>1963</td>\n",
       "      <td>247.0</td>\n",
       "      <td>1</td>\n",
       "      <td>609</td>\n",
       "      <td>1394</td>\n",
       "      <td>1394</td>\n",
       "      <td>1394</td>\n",
       "      <td>1</td>\n",
       "      <td>1.0</td>\n",
       "      <td>6</td>\n",
       "      <td>2</td>\n",
       "      <td>2</td>\n",
       "      <td>514</td>\n",
       "      <td>46</td>\n",
       "      <td>0</td>\n",
       "      <td>1</td>\n",
       "      <td>0</td>\n",
       "      <td>0</td>\n",
       "      <td>0</td>\n",
       "      <td>0</td>\n",
       "      <td>0</td>\n",
       "      <td>1</td>\n",
       "      <td>0</td>\n",
       "      <td>0</td>\n",
       "    </tr>\n",
       "  </tbody>\n",
       "</table>\n",
       "</div>"
      ],
      "text/plain": [
       "     id  overall_qual  year_built  year_remod/add  mas_vnr_area  exter_qual  \\\n",
       "0  2658             6        1910            1950           0.0           1   \n",
       "1  2718             5        1977            1977           0.0           1   \n",
       "2  2414             7        2006            2006           0.0           2   \n",
       "3  1989             5        1923            2006           0.0           2   \n",
       "4   625             6        1963            1963         247.0           1   \n",
       "\n",
       "   bsmtfin_sf_1  total_bsmt_sf  1st_flr_sf  gr_liv_area  full_bath  \\\n",
       "0             0           1020         908         1928          2   \n",
       "1             0           1967        1967         1967          2   \n",
       "2           554            654         664         1496          2   \n",
       "3             0            968         968          968          1   \n",
       "4           609           1394        1394         1394          1   \n",
       "\n",
       "   kitchen_qual  totrms_abvgrd  fireplaces  garage_cars  garage_area  \\\n",
       "0           0.0              9           0            1          440   \n",
       "1           1.0             10           0            2          580   \n",
       "2           2.0              7           1            2          426   \n",
       "3           1.0              5           0            2          480   \n",
       "4           1.0              6           2            2          514   \n",
       "\n",
       "   lifespan  foundation_BrkTil  foundation_CBlock  foundation_PConc  \\\n",
       "0        96                  0                  0                 0   \n",
       "1        29                  0                  1                 0   \n",
       "2         0                  0                  0                 1   \n",
       "3        84                  0                  1                 0   \n",
       "4        46                  0                  1                 0   \n",
       "\n",
       "   foundation_Slab  foundation_Stone  foundation_Wood  mas_vnr_type_BrkCmn  \\\n",
       "0                0                 1                0                    0   \n",
       "1                0                 0                0                    0   \n",
       "2                0                 0                0                    0   \n",
       "3                0                 0                0                    0   \n",
       "4                0                 0                0                    0   \n",
       "\n",
       "   mas_vnr_type_BrkFace  mas_vnr_type_None  mas_vnr_type_Stone  \n",
       "0                     0                  1                   0  \n",
       "1                     0                  1                   0  \n",
       "2                     0                  1                   0  \n",
       "3                     0                  1                   0  \n",
       "4                     1                  0                   0  "
      ]
     },
     "execution_count": 41,
     "metadata": {},
     "output_type": "execute_result"
    }
   ],
   "source": [
    "#Reading testHousing_data.csv Files\n",
    "testHousing_data = pd.read_csv('../Code/testHousing_data.csv' )\n",
    "testHousing_data.head()\n"
   ]
  },
  {
   "cell_type": "code",
   "execution_count": 42,
   "id": "1e7b428b",
   "metadata": {},
   "outputs": [
    {
     "data": {
      "text/plain": [
       "(2029, 28)"
      ]
     },
     "execution_count": 42,
     "metadata": {},
     "output_type": "execute_result"
    }
   ],
   "source": [
    "housing_data.shape"
   ]
  },
  {
   "cell_type": "code",
   "execution_count": 43,
   "id": "07511532",
   "metadata": {},
   "outputs": [
    {
     "data": {
      "text/plain": [
       "(878, 27)"
      ]
     },
     "execution_count": 43,
     "metadata": {},
     "output_type": "execute_result"
    }
   ],
   "source": [
    "testHousing_data.shape"
   ]
  },
  {
   "cell_type": "markdown",
   "id": "d3148e56",
   "metadata": {},
   "source": [
    "## Model Prep"
   ]
  },
  {
   "cell_type": "code",
   "execution_count": 44,
   "id": "ee542873",
   "metadata": {},
   "outputs": [],
   "source": [
    "#Creating Features Matrix (X) and target vector (y)\n",
    "features = [col for col in housing_data._get_numeric_data().columns if col != 'saleprice']\n",
    "X = housing_data[features]\n",
    "y = housing_data['saleprice']"
   ]
  },
  {
   "cell_type": "code",
   "execution_count": 45,
   "id": "ad78d4f3",
   "metadata": {},
   "outputs": [
    {
     "name": "stdout",
     "output_type": "stream",
     "text": [
      "X:  (2029, 27)\n",
      "y:  (2029,)\n"
     ]
    }
   ],
   "source": [
    "print('X: ', X.shape)\n",
    "print('y: ', y.shape)"
   ]
  },
  {
   "cell_type": "markdown",
   "id": "d8c74ab2",
   "metadata": {},
   "source": [
    "I started the model preparation by seperating the columns dataset that does not contains the target ('saleprice') and assigning it to X variable while variable Y i will be assigning the target which is the salesprice. I also checked to ensure both X and Y variable's row are consistent "
   ]
  },
  {
   "cell_type": "markdown",
   "id": "1ee78503",
   "metadata": {},
   "source": [
    "### Train Test Split"
   ]
  },
  {
   "cell_type": "code",
   "execution_count": 46,
   "id": "5fc355e0",
   "metadata": {},
   "outputs": [],
   "source": [
    "X_train, X_test, y_train, y_test = train_test_split(X, y, random_state=42)\n",
    "\n"
   ]
  },
  {
   "cell_type": "code",
   "execution_count": 47,
   "id": "7f513ab5",
   "metadata": {},
   "outputs": [
    {
     "name": "stdout",
     "output_type": "stream",
     "text": [
      "X_train:  (1521, 27)\n",
      "y_train:  (1521,)\n",
      "X_test:  (508, 27)\n"
     ]
    }
   ],
   "source": [
    "#After splitting the data (75/25)\n",
    "print('X_train: ', X_train.shape)\n",
    "print('y_train: ', y_train.shape)\n",
    "print('X_test: ', X_test.shape)\n"
   ]
  },
  {
   "cell_type": "markdown",
   "id": "58d9a06d",
   "metadata": {},
   "source": [
    "Next, i split the data further into Test and train data for both X and Y variable. The purpose of splitting the data set to evaluate how well my machine learning model performs. The train set is used to fit the model while the test data set is solely used for predictions. "
   ]
  },
  {
   "cell_type": "markdown",
   "id": "16f57c27",
   "metadata": {},
   "source": [
    "## Model Prep: Scaling"
   ]
  },
  {
   "cell_type": "code",
   "execution_count": 48,
   "id": "acf6ee5b",
   "metadata": {},
   "outputs": [],
   "source": [
    "#Scaling data from housing_data(train.csv)\n",
    "ss = StandardScaler()\n",
    "ss.fit(X_train)\n",
    "X_train = ss.transform(X_train)\n",
    "X_test = ss.transform(X_test)\n"
   ]
  },
  {
   "cell_type": "markdown",
   "id": "f036ae85",
   "metadata": {},
   "source": [
    "Next I scaled the X train and test data to standardised my features of X individually before applying machine learning model. As such, each columns in X would have a mean of 0 and standard deviation of 1.  "
   ]
  },
  {
   "cell_type": "code",
   "execution_count": 49,
   "id": "01155f0c",
   "metadata": {},
   "outputs": [],
   "source": [
    "lr = LinearRegression()"
   ]
  },
  {
   "cell_type": "code",
   "execution_count": 50,
   "id": "e564ba7f",
   "metadata": {},
   "outputs": [],
   "source": [
    "lasso = LassoCV(n_alphas=200)"
   ]
  },
  {
   "cell_type": "code",
   "execution_count": 51,
   "id": "0e0d3711",
   "metadata": {},
   "outputs": [],
   "source": [
    "ridge = RidgeCV(alphas=np.linspace(.1,10,100))"
   ]
  },
  {
   "cell_type": "code",
   "execution_count": 52,
   "id": "abded114",
   "metadata": {},
   "outputs": [
    {
     "data": {
      "text/plain": [
       "0.8108974559379136"
      ]
     },
     "execution_count": 52,
     "metadata": {},
     "output_type": "execute_result"
    }
   ],
   "source": [
    "#Baseline Score (mean)\n",
    "cross_val_score(lr,X,y).mean()"
   ]
  },
  {
   "cell_type": "markdown",
   "id": "11c0bdda",
   "metadata": {},
   "source": [
    "## Cross Validation"
   ]
  },
  {
   "cell_type": "code",
   "execution_count": 53,
   "id": "97c1e557",
   "metadata": {},
   "outputs": [
    {
     "data": {
      "text/plain": [
       "0.7907337497916475"
      ]
     },
     "execution_count": 53,
     "metadata": {},
     "output_type": "execute_result"
    }
   ],
   "source": [
    "lr_scores = cross_val_score(lr, X_train, y_train, cv=3)\n",
    "lr_scores.mean()"
   ]
  },
  {
   "cell_type": "code",
   "execution_count": 54,
   "id": "d8594752",
   "metadata": {},
   "outputs": [
    {
     "name": "stdout",
     "output_type": "stream",
     "text": [
      "35271.12479360037\n"
     ]
    }
   ],
   "source": [
    "lr_scores = -cross_val_score(lr, X_train, y_train, cv=5, scoring='neg_root_mean_squared_error').mean()\n",
    "print (lr_scores)"
   ]
  },
  {
   "cell_type": "code",
   "execution_count": 55,
   "id": "f967acd5",
   "metadata": {},
   "outputs": [
    {
     "data": {
      "text/plain": [
       "0.791320570966121"
      ]
     },
     "execution_count": 55,
     "metadata": {},
     "output_type": "execute_result"
    }
   ],
   "source": [
    "lasso_scores = cross_val_score(lasso, X_train, y_train, cv=3)\n",
    "lasso_scores.mean()"
   ]
  },
  {
   "cell_type": "code",
   "execution_count": 56,
   "id": "e836532e",
   "metadata": {},
   "outputs": [
    {
     "name": "stdout",
     "output_type": "stream",
     "text": [
      "35605.778728583726\n"
     ]
    }
   ],
   "source": [
    "lasso_scores = -cross_val_score(lasso, X_train, y_train, cv=5, scoring='neg_root_mean_squared_error').mean()\n",
    "print (lasso_scores)"
   ]
  },
  {
   "cell_type": "code",
   "execution_count": 57,
   "id": "fa369508",
   "metadata": {
    "scrolled": true
   },
   "outputs": [
    {
     "data": {
      "text/plain": [
       "0.7908578230862108"
      ]
     },
     "execution_count": 57,
     "metadata": {},
     "output_type": "execute_result"
    }
   ],
   "source": [
    "ridge_scores = cross_val_score(ridge, X_train, y_train, cv=3)\n",
    "ridge_scores.mean()"
   ]
  },
  {
   "cell_type": "code",
   "execution_count": 58,
   "id": "50cfce8a",
   "metadata": {},
   "outputs": [
    {
     "name": "stdout",
     "output_type": "stream",
     "text": [
      "35312.222805535144\n"
     ]
    }
   ],
   "source": [
    "ridge_scores = -cross_val_score(ridge, X_train, y_train, cv=5, scoring='neg_root_mean_squared_error').mean()\n",
    "print (ridge_scores)"
   ]
  },
  {
   "cell_type": "markdown",
   "id": "69137f1f",
   "metadata": {},
   "source": [
    "I have also performed a cross validation across all 3 regression model to estimate the performance/accruacy for each of the machine learning models. As we look at the results, all 3 regression model displayed similar scores with a small difference of 0.001 (or 0.1%) . This indicates that there is no over/under fitting of data. To proceed further, i will be using Lasso Regression model as it has the highest score among the 3 regression. "
   ]
  },
  {
   "cell_type": "markdown",
   "id": "2db08417",
   "metadata": {},
   "source": [
    "## Model Fitting and Evaluation"
   ]
  },
  {
   "cell_type": "markdown",
   "id": "758f98cf",
   "metadata": {},
   "source": [
    "### Fitting Linear Regression "
   ]
  },
  {
   "cell_type": "code",
   "execution_count": 59,
   "id": "51265102",
   "metadata": {},
   "outputs": [
    {
     "name": "stdout",
     "output_type": "stream",
     "text": [
      "Lr R^2 Train score:  0.8113616509448027\n",
      "Lr R^2 Test score:  0.8558064206287028\n"
     ]
    }
   ],
   "source": [
    "#Fitting Linear regression\n",
    "lr.fit(X_train, y_train)\n",
    "lr_pred = lr.predict(X_test)\n",
    "print('Lr R^2 Train score: ', r2_score(y_train, lr.predict(X_train)))\n",
    "print('Lr R^2 Test score: ', r2_score(y_test, lr_pred))"
   ]
  },
  {
   "cell_type": "code",
   "execution_count": 60,
   "id": "07855ecd",
   "metadata": {},
   "outputs": [
    {
     "name": "stdout",
     "output_type": "stream",
     "text": [
      "Linear RMSE Train:  33932.79759001005\n",
      "Linear RMSE Test:  30662.094874708084\n"
     ]
    }
   ],
   "source": [
    "#Checking the Root Mean Squared Error for Linear train and test set\n",
    "print('Linear RMSE Train: ', mean_squared_error(y_train, lr.predict(X_train),squared=False))\n",
    "print('Linear RMSE Test: ', mean_squared_error(y_test, lr_pred,squared=False))"
   ]
  },
  {
   "cell_type": "markdown",
   "id": "e4806c2c",
   "metadata": {},
   "source": [
    "### Fitting Lasso regression (Highest CV score)"
   ]
  },
  {
   "cell_type": "code",
   "execution_count": 61,
   "id": "3f446dc2",
   "metadata": {},
   "outputs": [
    {
     "name": "stdout",
     "output_type": "stream",
     "text": [
      "Lasso R^2 Train score:  0.8097531929629325\n",
      "Lasso R^2 Test score:  0.8555702760142734\n"
     ]
    }
   ],
   "source": [
    "#Fitting Lasso regression (Can break this into smaller print out)\n",
    "lasso.fit(X_train, y_train)\n",
    "lasso_pred = lasso.predict(X_test)\n",
    "print('Lasso R^2 Train score: ',r2_score(y_train, lasso.predict(X_train)))\n",
    "print('Lasso R^2 Test score: ',r2_score(y_test, lasso_pred))\n"
   ]
  },
  {
   "cell_type": "code",
   "execution_count": 62,
   "id": "fc042264",
   "metadata": {},
   "outputs": [
    {
     "name": "stdout",
     "output_type": "stream",
     "text": [
      "Lasso RMSE Train:  34077.15749195792\n",
      "Lasso RMSE Test:  30687.192131203876\n"
     ]
    }
   ],
   "source": [
    "#Checking the Root Mean Squared Error for Lasso train and test set\n",
    "print('Lasso RMSE Train: ', mean_squared_error(y_train, lasso.predict(X_train),squared=False))\n",
    "print('Lasso RMSE Test: ', mean_squared_error(y_test, lasso_pred,squared=False))"
   ]
  },
  {
   "cell_type": "markdown",
   "id": "7c6c1c84",
   "metadata": {},
   "source": [
    "### Fitting Ridge regression"
   ]
  },
  {
   "cell_type": "code",
   "execution_count": 63,
   "id": "bda50cc7",
   "metadata": {},
   "outputs": [
    {
     "name": "stdout",
     "output_type": "stream",
     "text": [
      "Ridge R^2 Train Score:  0.8103906938741596\n",
      "Ridge R^2 Test Score:  0.8561139992095185\n"
     ]
    }
   ],
   "source": [
    "#Fitting Ridge Regression\n",
    "ridge.fit(X_train, y_train)\n",
    "ridge_pred = ridge.predict(X_test) \n",
    "print('Ridge R^2 Train Score: ', r2_score(y_train, ridge.predict(X_train)) )\n",
    "print('Ridge R^2 Test Score: ',r2_score(y_test, ridge_pred) )\n"
   ]
  },
  {
   "cell_type": "code",
   "execution_count": 64,
   "id": "0a27ff1e",
   "metadata": {
    "scrolled": false
   },
   "outputs": [
    {
     "name": "stdout",
     "output_type": "stream",
     "text": [
      "Ridge RMSE Train:  34020.01474971919\n",
      "Ridge RMSE Test:  30629.374838403415\n"
     ]
    }
   ],
   "source": [
    "#Checking the Mean Squared Error for Ridge train and test set\n",
    "print('Ridge RMSE Train: ',mean_squared_error(y_train, ridge.predict(X_train),squared=False))\n",
    "print('Ridge RMSE Test: ', mean_squared_error(y_test, ridge_pred,squared=False))"
   ]
  },
  {
   "cell_type": "markdown",
   "id": "b8efb2f2",
   "metadata": {},
   "source": [
    "For model fitting, i've fitted all 3 regression to have an overview of the accruacy (R^2) score for each model as well as their Root mean squared error. As we look at the R^2, we can determine that all 3 models returns an accruacy of 85% which is above my threshold of 80%. Ontop of that, for each of the regression R^2 train and test score, the different is only 0.046 or lower. This indicates that the models are quite accruate in the predictions against the actual sales price. \n",
    "\n",
    "Next we will look at the Root Mean Squared Error where the results is an indication of a range value of the prediciton error. All 3 regression RMSE are around 30000 - 36000 and the lower the RMSE, the better as this would indicate that the value of prediction error is smaller. \n",
    "\n",
    "For our specific Lasso Model, it scored a test accruacy (R^2) of 85.5% with a test RMSE score of 30687. This indicates a very high accruacy of our machine learning predictive model with the range error to be around 16% (RMSE/Saleprice mean = 30687/182631). This indicates that for every Sales price prediction, there will be a +/- 30687 potential range error ontop of the saleprice. \n"
   ]
  },
  {
   "cell_type": "markdown",
   "id": "498bdd61",
   "metadata": {},
   "source": [
    "## Data Dictionary:\n",
    "\n",
    "|Method|R2 Score|RMSE Score|\n",
    "|---|---|---| \n",
    "|Lasso Regression - Train|0.8097|34077| \n",
    "|Lasso Regression - Test|0.8555|30687\n",
    "|Ridge Regression - Train|0.8103|34020|\n",
    "|Ridge Regression - Test|0.8561|30629|\n",
    "|Linear Regression - Train|0.8113|33932|\n",
    "|Linear Regression - Test|0.8558|30662|\n"
   ]
  },
  {
   "cell_type": "markdown",
   "id": "2acda78b",
   "metadata": {},
   "source": [
    "## Evaluation"
   ]
  },
  {
   "cell_type": "code",
   "execution_count": 65,
   "id": "3dcb4eb0",
   "metadata": {},
   "outputs": [
    {
     "data": {
      "text/html": [
       "<div>\n",
       "<style scoped>\n",
       "    .dataframe tbody tr th:only-of-type {\n",
       "        vertical-align: middle;\n",
       "    }\n",
       "\n",
       "    .dataframe tbody tr th {\n",
       "        vertical-align: top;\n",
       "    }\n",
       "\n",
       "    .dataframe thead th {\n",
       "        text-align: right;\n",
       "    }\n",
       "</style>\n",
       "<table border=\"1\" class=\"dataframe\">\n",
       "  <thead>\n",
       "    <tr style=\"text-align: right;\">\n",
       "      <th></th>\n",
       "      <th>variable</th>\n",
       "      <th>coef</th>\n",
       "      <th>abs_coef</th>\n",
       "    </tr>\n",
       "  </thead>\n",
       "  <tbody>\n",
       "    <tr>\n",
       "      <th>1</th>\n",
       "      <td>overall_qual</td>\n",
       "      <td>19461.890307</td>\n",
       "      <td>19461.890307</td>\n",
       "    </tr>\n",
       "    <tr>\n",
       "      <th>9</th>\n",
       "      <td>gr_liv_area</td>\n",
       "      <td>14727.118994</td>\n",
       "      <td>14727.118994</td>\n",
       "    </tr>\n",
       "    <tr>\n",
       "      <th>5</th>\n",
       "      <td>exter_qual</td>\n",
       "      <td>9278.055343</td>\n",
       "      <td>9278.055343</td>\n",
       "    </tr>\n",
       "    <tr>\n",
       "      <th>11</th>\n",
       "      <td>kitchen_qual</td>\n",
       "      <td>8606.946815</td>\n",
       "      <td>8606.946815</td>\n",
       "    </tr>\n",
       "    <tr>\n",
       "      <th>4</th>\n",
       "      <td>mas_vnr_area</td>\n",
       "      <td>7300.239862</td>\n",
       "      <td>7300.239862</td>\n",
       "    </tr>\n",
       "    <tr>\n",
       "      <th>6</th>\n",
       "      <td>bsmtfin_sf_1</td>\n",
       "      <td>7105.232000</td>\n",
       "      <td>7105.232000</td>\n",
       "    </tr>\n",
       "    <tr>\n",
       "      <th>13</th>\n",
       "      <td>fireplaces</td>\n",
       "      <td>5969.040029</td>\n",
       "      <td>5969.040029</td>\n",
       "    </tr>\n",
       "    <tr>\n",
       "      <th>14</th>\n",
       "      <td>garage_cars</td>\n",
       "      <td>5399.747340</td>\n",
       "      <td>5399.747340</td>\n",
       "    </tr>\n",
       "    <tr>\n",
       "      <th>8</th>\n",
       "      <td>1st_flr_sf</td>\n",
       "      <td>4456.929779</td>\n",
       "      <td>4456.929779</td>\n",
       "    </tr>\n",
       "    <tr>\n",
       "      <th>15</th>\n",
       "      <td>garage_area</td>\n",
       "      <td>4343.522007</td>\n",
       "      <td>4343.522007</td>\n",
       "    </tr>\n",
       "  </tbody>\n",
       "</table>\n",
       "</div>"
      ],
      "text/plain": [
       "        variable          coef      abs_coef\n",
       "1   overall_qual  19461.890307  19461.890307\n",
       "9    gr_liv_area  14727.118994  14727.118994\n",
       "5     exter_qual   9278.055343   9278.055343\n",
       "11  kitchen_qual   8606.946815   8606.946815\n",
       "4   mas_vnr_area   7300.239862   7300.239862\n",
       "6   bsmtfin_sf_1   7105.232000   7105.232000\n",
       "13    fireplaces   5969.040029   5969.040029\n",
       "14   garage_cars   5399.747340   5399.747340\n",
       "8     1st_flr_sf   4456.929779   4456.929779\n",
       "15   garage_area   4343.522007   4343.522007"
      ]
     },
     "execution_count": 65,
     "metadata": {},
     "output_type": "execute_result"
    }
   ],
   "source": [
    "#Sorting top 10 feature that can affect salesprice\n",
    "lasso_coefs = pd.DataFrame({'variable': X.columns,\n",
    "                            'coef': lasso.coef_,\n",
    "                            'abs_coef': abs(lasso.coef_)})\n",
    "lasso_coefs.sort_values('abs_coef',inplace=True, ascending=False)\n",
    "lasso_coefs.head(10)"
   ]
  },
  {
   "cell_type": "code",
   "execution_count": 66,
   "id": "828bd067",
   "metadata": {},
   "outputs": [
    {
     "data": {
      "image/png": "[encoded data removed]",
      "text/plain": [
       "<Figure size 1080x504 with 1 Axes>"
      ]
     },
     "metadata": {
      "needs_background": "light"
     },
     "output_type": "display_data"
    }
   ],
   "source": [
    "#Displaying the Correlation coefficient of the features\n",
    "\n",
    "pd.Series(lasso.coef_, index=features).plot.barh(figsize=(15,7))\n",
    "plt.show()"
   ]
  },
  {
   "cell_type": "markdown",
   "id": "2e27985a",
   "metadata": {},
   "source": [
    "After predicting the price, we can also evaluate the coefficient of the Lasso model to determine which are the top features that could affect the sales price. As we look at the table, a unit movement of overall Quality would result in a shift of $19,461 in the saleprice. This is because there is a high positive correlation between the overall qualities of the house against the sales price. "
   ]
  },
  {
   "cell_type": "code",
   "execution_count": 67,
   "id": "9b18f9ff",
   "metadata": {},
   "outputs": [
    {
     "data": {
      "image/png": "[encoded data removed]",
      "text/plain": [
       "<Figure size 432x288 with 1 Axes>"
      ]
     },
     "metadata": {
      "needs_background": "light"
     },
     "output_type": "display_data"
    }
   ],
   "source": [
    "#Creating residual for lasso \n",
    "residual_lasso = y_test - lasso_pred\n",
    "plt.scatter(x=lasso_pred,y=residual_lasso)\n",
    "plt.show()\n"
   ]
  },
  {
   "cell_type": "markdown",
   "id": "2311d2c3",
   "metadata": {},
   "source": [
    "When we create the residual for lasso regression model, we are able to identify the price difference between the predicted value and the test value. As we plot the scatterplot above, we can see a large cluster of points hover around 0 for y axis. This indicates that for most of the price predicted, it is within +/-1 std deviation from the mean. This indicates that our model were able to predict the price range very closely to the mean with a small amount of outliers. "
   ]
  },
  {
   "cell_type": "code",
   "execution_count": 68,
   "id": "877ecce3",
   "metadata": {},
   "outputs": [
    {
     "data": {
      "text/plain": [
       "[<matplotlib.lines.Line2D at 0x7ff57248fca0>]"
      ]
     },
     "execution_count": 68,
     "metadata": {},
     "output_type": "execute_result"
    },
    {
     "data": {
      "image/png": "[encoded data removed]",
      "text/plain": [
       "<Figure size 720x360 with 1 Axes>"
      ]
     },
     "metadata": {
      "needs_background": "light"
     },
     "output_type": "display_data"
    }
   ],
   "source": [
    "#True Value scatter plot\n",
    "plt.figure(figsize=(10,5))\n",
    "plt.scatter(x=lasso_pred, y=y_test)\n",
    "\n",
    "m,b = np.polyfit(lasso_pred,y_test,1)\n",
    "plt.plot(lasso_pred, m*lasso_pred+b)"
   ]
  },
  {
   "cell_type": "markdown",
   "id": "e1da277a",
   "metadata": {},
   "source": [
    "The residual scatterplot and the true value scatterplot is slightly different. As the Residual scatterplot is used to determine the predicted price against the **different** between predicted price and actual price. \n",
    "\n",
    "While for true value scatter plot, we are displaying both predicted price and actual value. Then i include the line of best fit to show how far each plot is away from the mean. Ideally what i want to see is majority of the plots to be close to the line with little to no outliers. So for the scatterplot, we can clearly see that for saleprice below 300k are generally very close to the line. While the amount above 300k have a larger spread between the plot and the line. This could be due to lack of data for saleprice above 350k.\n",
    "\n",
    "\n"
   ]
  },
  {
   "cell_type": "markdown",
   "id": "0bad9916",
   "metadata": {},
   "source": [
    "### Optimal Value"
   ]
  },
  {
   "cell_type": "code",
   "execution_count": 69,
   "id": "61bde2a5",
   "metadata": {},
   "outputs": [
    {
     "name": "stdout",
     "output_type": "stream",
     "text": [
      "CPU times: user 14 µs, sys: 1 µs, total: 15 µs\n",
      "Wall time: 5.01 µs\n",
      "193.38917504552322\n"
     ]
    }
   ],
   "source": [
    "#Finding optimal value for Ridge regression alpha\n",
    "%time\n",
    "ridge_alphas = np.logspace(0, 5, 200)\n",
    "\n",
    "optimal_ridge = RidgeCV(alphas=ridge_alphas, cv=5)\n",
    "optimal_ridge.fit(X_train, y_train)\n",
    "\n",
    "print (optimal_ridge.alpha_)"
   ]
  },
  {
   "cell_type": "markdown",
   "id": "c55c2046",
   "metadata": {},
   "source": [
    "## Model Prep: Scaling and Prediction for testHousing_data"
   ]
  },
  {
   "cell_type": "code",
   "execution_count": 70,
   "id": "67bbf00e",
   "metadata": {},
   "outputs": [
    {
     "data": {
      "text/plain": [
       "(2029, 28)"
      ]
     },
     "execution_count": 70,
     "metadata": {},
     "output_type": "execute_result"
    }
   ],
   "source": [
    "housing_data.shape"
   ]
  },
  {
   "cell_type": "code",
   "execution_count": 71,
   "id": "4adaa2be",
   "metadata": {},
   "outputs": [
    {
     "data": {
      "text/plain": [
       "(878, 27)"
      ]
     },
     "execution_count": 71,
     "metadata": {},
     "output_type": "execute_result"
    }
   ],
   "source": [
    "testHousing_data.shape"
   ]
  },
  {
   "cell_type": "code",
   "execution_count": 72,
   "id": "f8398366",
   "metadata": {},
   "outputs": [
    {
     "data": {
      "text/plain": [
       "id                      0\n",
       "garage_cars             0\n",
       "mas_vnr_type_None       0\n",
       "mas_vnr_type_BrkFace    0\n",
       "mas_vnr_type_BrkCmn     0\n",
       "foundation_Wood         0\n",
       "foundation_Stone        0\n",
       "foundation_Slab         0\n",
       "foundation_PConc        0\n",
       "foundation_CBlock       0\n",
       "foundation_BrkTil       0\n",
       "dtype: int64"
      ]
     },
     "execution_count": 72,
     "metadata": {},
     "output_type": "execute_result"
    }
   ],
   "source": [
    "#Checking for null value\n",
    "testHousing_data.isnull().sum().sort_values(ascending=False).head(22)\n",
    "testHousing_data['kitchen_qual'] = testHousing_data['kitchen_qual'].fillna(0.0)\n",
    "testHousing_data.isnull().sum().sort_values(ascending=False).head(11)"
   ]
  },
  {
   "cell_type": "code",
   "execution_count": 73,
   "id": "8328ab19",
   "metadata": {},
   "outputs": [],
   "source": [
    "#Scaling data from testHousing_data (test.csv)\n",
    "test_s = ss.transform(testHousing_data) \n",
    "\n"
   ]
  },
  {
   "cell_type": "markdown",
   "id": "d276a51b",
   "metadata": {},
   "source": [
    "As i've already fit the scaling model with the housing_data (train.csv) set, I would only need to apply scaling tranform on the test data to ensure that the scaling is similar. "
   ]
  },
  {
   "cell_type": "code",
   "execution_count": 74,
   "id": "64c9663f",
   "metadata": {},
   "outputs": [
    {
     "data": {
      "text/plain": [
       "(878,)"
      ]
     },
     "execution_count": 74,
     "metadata": {},
     "output_type": "execute_result"
    }
   ],
   "source": [
    "#Model predictions for testHousing_data(test.csv)\n",
    "y_prediction = lasso.predict(test_s)\n",
    "y_prediction.shape"
   ]
  },
  {
   "cell_type": "markdown",
   "id": "c4677f42",
   "metadata": {},
   "source": [
    "While most of the modelling above are done for the housing_data(train.csv) set, i would also need to apply the same scaling, model predictions as well as little adjustments for missing values to ensure i can use the model to predict the actual test dataset (testHousing_data or test.csv)"
   ]
  },
  {
   "cell_type": "code",
   "execution_count": 75,
   "id": "0a2cf93e",
   "metadata": {},
   "outputs": [],
   "source": [
    "#Passing the y_predictions into a dataframe\n",
    "saleprice_predict = pd.DataFrame(y_prediction, columns=['saleprice'])\n",
    "saleprice_id = pd.DataFrame(testHousing_data['id'])\n",
    "\n",
    "final_saleprice = pd.concat([saleprice_id,saleprice_predict], axis=1)\n",
    "\n",
    "#Converting to CSV file \n",
    "final_saleprice.to_csv('final_saleprice.csv', index=False)\n",
    "\n",
    "\n"
   ]
  },
  {
   "cell_type": "markdown",
   "id": "ecf20998",
   "metadata": {},
   "source": [
    "Last but not least, i will predict the sales price from the testhousing_data(test.csv) dataset on a dataframe and concatenate the ID to the salesprice. Next i will export the dataframe into csv file where i would upload the csv file on kaggle. "
   ]
  },
  {
   "cell_type": "markdown",
   "id": "22af3fdb",
   "metadata": {},
   "source": [
    "## Conclusion and recommendation "
   ]
  },
  {
   "cell_type": "markdown",
   "id": "6f26c624",
   "metadata": {},
   "source": [
    "**Conclusion**\n",
    "\n",
    "Features such as overall condition of the property, ground living area, external quality, kitchen quality and Masonry veneer area are highly correlated to the sales price. This indicates that generally buyers/sellers who focus on these aspect have a higher chance in selling the property at a higher price. While the 3 regression model were able to predict price at a high accruacy, there is a requirement to obtain more data and constantly update the features as more and more young adults are becoming homebuyers which may have a different view of features in relation to features. On top of that, although the accruacy is above benchmark of 80%, collection of more data may help in providing more insight leading to better results. Homesellers who aims to sell the house can also be remainded that the long the property is held without remodifications, the lower the future salesprice they might receive. \n",
    "\n",
    "**Recommendation**\n",
    "\n",
    "- Sellers of the property is to look into the key features that could result in selling the properties at a higher price. \n",
    "- While for speculative buyers, they can look into features that leads to a lower sales price and focus on remodifying the key features  in hope for a good chance to flip the property at a profit. \n",
    "\n",
    "- I would also recommend for the data collection to make the answers for survey/data entry mandatory to avoid having a large amount of empty values which might lead to low correlation/skewed result. \n",
    "\n",
    "- I would also include interest rates data/government intervention(eg: ABSD for Singapore) to see if there is a strong correlation between higher mortgage rates with lower property price. The rational for such idea is to see if higher mortgage rate would reduce the demand of properties which may lead to a drop in prices. \n",
    "\n",
    "\n"
   ]
  },
  {
   "cell_type": "code",
   "execution_count": null,
   "id": "cd14e9f9",
   "metadata": {},
   "outputs": [],
   "source": []
  }
 ],
 "metadata": {
  "kernelspec": {
   "display_name": "Python 3 (ipykernel)",
   "language": "python",
   "name": "python3"
  },
  "language_info": {
   "codemirror_mode": {
    "name": "ipython",
    "version": 3
   },
   "file_extension": ".py",
   "mimetype": "text/x-python",
   "name": "python",
   "nbconvert_exporter": "python",
   "pygments_lexer": "ipython3",
   "version": "3.9.7"
  }
 },
 "nbformat": 4,
 "nbformat_minor": 5
}
