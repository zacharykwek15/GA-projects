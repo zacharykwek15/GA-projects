{
 "cells": [
  {
   "cell_type": "markdown",
   "id": "593bd1af",
   "metadata": {},
   "source": [
    "<img src=\"http://imgur.com/1ZcRyrc.png\" style=\"float: left; margin: 20px; height: 55px\">\n",
    "\n",
    "# Project 2"
   ]
  },
  {
   "cell_type": "markdown",
   "id": "53c99edf",
   "metadata": {},
   "source": [
    "## Contents:\n",
    "- [Import and reading file](#Import-and-reading-file)\n",
    "- [Modelling](#Modelling)\n",
    "- [Data Dictionary](#Data-Dictionary)\n",
    "- [Evaluation](#Evaluation)\n",
    "- [Conclusions and Recommendations](#Conclusions-and-Recommendations)"
   ]
  },
  {
   "cell_type": "markdown",
   "id": "f61bc07a",
   "metadata": {},
   "source": [
    "## Codes"
   ]
  },
  {
   "cell_type": "code",
   "execution_count": 959,
   "id": "e93135bf",
   "metadata": {},
   "outputs": [],
   "source": [
    "#Imports:\n",
    "import numpy as np\n",
    "import pandas as pd\n",
    "import matplotlib.pyplot as plt\n",
    "import seaborn as sns\n",
    "from sklearn import metrics\n",
    "from sklearn.linear_model import LinearRegression, LassoCV, RidgeCV\n",
    "from sklearn.preprocessing import PolynomialFeatures, StandardScaler\n",
    "from sklearn.model_selection import train_test_split, cross_val_score, cross_val_predict\n",
    "from sklearn.metrics import r2_score\n",
    "from sklearn.linear_model import Ridge, Lasso\n",
    "from sklearn.metrics import mean_squared_error\n",
    "\n",
    "import warnings"
   ]
  },
  {
   "cell_type": "code",
   "execution_count": 960,
   "id": "a0165e4d",
   "metadata": {},
   "outputs": [],
   "source": [
    "#Setting default display settings\n",
    "pd.set_option('display.max_rows', 30)\n",
    "pd.set_option('display.max_columns', 60)"
   ]
  },
  {
   "cell_type": "markdown",
   "id": "dd03062a",
   "metadata": {},
   "source": [
    "## Import and reading file"
   ]
  },
  {
   "cell_type": "code",
   "execution_count": 961,
   "id": "04ffa040",
   "metadata": {
    "scrolled": true
   },
   "outputs": [
    {
     "data": {
      "text/html": [
       "<div>\n",
       "<style scoped>\n",
       "    .dataframe tbody tr th:only-of-type {\n",
       "        vertical-align: middle;\n",
       "    }\n",
       "\n",
       "    .dataframe tbody tr th {\n",
       "        vertical-align: top;\n",
       "    }\n",
       "\n",
       "    .dataframe thead th {\n",
       "        text-align: right;\n",
       "    }\n",
       "</style>\n",
       "<table border=\"1\" class=\"dataframe\">\n",
       "  <thead>\n",
       "    <tr style=\"text-align: right;\">\n",
       "      <th></th>\n",
       "      <th>id</th>\n",
       "      <th>overall_qual</th>\n",
       "      <th>year_built</th>\n",
       "      <th>year_remod/add</th>\n",
       "      <th>mas_vnr_area</th>\n",
       "      <th>exter_qual</th>\n",
       "      <th>bsmtfin_sf_1</th>\n",
       "      <th>total_bsmt_sf</th>\n",
       "      <th>1st_flr_sf</th>\n",
       "      <th>gr_liv_area</th>\n",
       "      <th>full_bath</th>\n",
       "      <th>kitchen_qual</th>\n",
       "      <th>totrms_abvgrd</th>\n",
       "      <th>fireplaces</th>\n",
       "      <th>garage_cars</th>\n",
       "      <th>garage_area</th>\n",
       "      <th>saleprice</th>\n",
       "      <th>lifespan</th>\n",
       "      <th>foundation_BrkTil</th>\n",
       "      <th>foundation_CBlock</th>\n",
       "      <th>foundation_PConc</th>\n",
       "      <th>foundation_Slab</th>\n",
       "      <th>foundation_Stone</th>\n",
       "      <th>foundation_Wood</th>\n",
       "      <th>mas_vnr_type_BrkCmn</th>\n",
       "      <th>mas_vnr_type_BrkFace</th>\n",
       "      <th>mas_vnr_type_None</th>\n",
       "      <th>mas_vnr_type_Stone</th>\n",
       "    </tr>\n",
       "  </thead>\n",
       "  <tbody>\n",
       "    <tr>\n",
       "      <th>0</th>\n",
       "      <td>109</td>\n",
       "      <td>6</td>\n",
       "      <td>1976</td>\n",
       "      <td>2005</td>\n",
       "      <td>289.0</td>\n",
       "      <td>2</td>\n",
       "      <td>533.0</td>\n",
       "      <td>725.0</td>\n",
       "      <td>725</td>\n",
       "      <td>1479</td>\n",
       "      <td>2</td>\n",
       "      <td>2</td>\n",
       "      <td>6</td>\n",
       "      <td>0</td>\n",
       "      <td>2.0</td>\n",
       "      <td>475.0</td>\n",
       "      <td>130500</td>\n",
       "      <td>34</td>\n",
       "      <td>0</td>\n",
       "      <td>1</td>\n",
       "      <td>0</td>\n",
       "      <td>0</td>\n",
       "      <td>0</td>\n",
       "      <td>0</td>\n",
       "      <td>0</td>\n",
       "      <td>1</td>\n",
       "      <td>0</td>\n",
       "      <td>0</td>\n",
       "    </tr>\n",
       "    <tr>\n",
       "      <th>1</th>\n",
       "      <td>544</td>\n",
       "      <td>7</td>\n",
       "      <td>1996</td>\n",
       "      <td>1997</td>\n",
       "      <td>132.0</td>\n",
       "      <td>2</td>\n",
       "      <td>637.0</td>\n",
       "      <td>913.0</td>\n",
       "      <td>913</td>\n",
       "      <td>2122</td>\n",
       "      <td>2</td>\n",
       "      <td>2</td>\n",
       "      <td>8</td>\n",
       "      <td>1</td>\n",
       "      <td>2.0</td>\n",
       "      <td>559.0</td>\n",
       "      <td>220000</td>\n",
       "      <td>13</td>\n",
       "      <td>0</td>\n",
       "      <td>0</td>\n",
       "      <td>1</td>\n",
       "      <td>0</td>\n",
       "      <td>0</td>\n",
       "      <td>0</td>\n",
       "      <td>0</td>\n",
       "      <td>1</td>\n",
       "      <td>0</td>\n",
       "      <td>0</td>\n",
       "    </tr>\n",
       "    <tr>\n",
       "      <th>2</th>\n",
       "      <td>153</td>\n",
       "      <td>5</td>\n",
       "      <td>1953</td>\n",
       "      <td>2007</td>\n",
       "      <td>0.0</td>\n",
       "      <td>1</td>\n",
       "      <td>731.0</td>\n",
       "      <td>1057.0</td>\n",
       "      <td>1057</td>\n",
       "      <td>1057</td>\n",
       "      <td>1</td>\n",
       "      <td>2</td>\n",
       "      <td>5</td>\n",
       "      <td>0</td>\n",
       "      <td>1.0</td>\n",
       "      <td>246.0</td>\n",
       "      <td>109000</td>\n",
       "      <td>57</td>\n",
       "      <td>0</td>\n",
       "      <td>1</td>\n",
       "      <td>0</td>\n",
       "      <td>0</td>\n",
       "      <td>0</td>\n",
       "      <td>0</td>\n",
       "      <td>0</td>\n",
       "      <td>0</td>\n",
       "      <td>1</td>\n",
       "      <td>0</td>\n",
       "    </tr>\n",
       "    <tr>\n",
       "      <th>3</th>\n",
       "      <td>318</td>\n",
       "      <td>5</td>\n",
       "      <td>2006</td>\n",
       "      <td>2007</td>\n",
       "      <td>0.0</td>\n",
       "      <td>1</td>\n",
       "      <td>0.0</td>\n",
       "      <td>384.0</td>\n",
       "      <td>744</td>\n",
       "      <td>1444</td>\n",
       "      <td>2</td>\n",
       "      <td>1</td>\n",
       "      <td>7</td>\n",
       "      <td>0</td>\n",
       "      <td>2.0</td>\n",
       "      <td>400.0</td>\n",
       "      <td>174000</td>\n",
       "      <td>4</td>\n",
       "      <td>0</td>\n",
       "      <td>0</td>\n",
       "      <td>1</td>\n",
       "      <td>0</td>\n",
       "      <td>0</td>\n",
       "      <td>0</td>\n",
       "      <td>0</td>\n",
       "      <td>0</td>\n",
       "      <td>1</td>\n",
       "      <td>0</td>\n",
       "    </tr>\n",
       "    <tr>\n",
       "      <th>4</th>\n",
       "      <td>255</td>\n",
       "      <td>6</td>\n",
       "      <td>1900</td>\n",
       "      <td>1993</td>\n",
       "      <td>0.0</td>\n",
       "      <td>1</td>\n",
       "      <td>0.0</td>\n",
       "      <td>676.0</td>\n",
       "      <td>831</td>\n",
       "      <td>1445</td>\n",
       "      <td>2</td>\n",
       "      <td>1</td>\n",
       "      <td>6</td>\n",
       "      <td>0</td>\n",
       "      <td>2.0</td>\n",
       "      <td>484.0</td>\n",
       "      <td>138500</td>\n",
       "      <td>110</td>\n",
       "      <td>0</td>\n",
       "      <td>0</td>\n",
       "      <td>1</td>\n",
       "      <td>0</td>\n",
       "      <td>0</td>\n",
       "      <td>0</td>\n",
       "      <td>0</td>\n",
       "      <td>0</td>\n",
       "      <td>1</td>\n",
       "      <td>0</td>\n",
       "    </tr>\n",
       "  </tbody>\n",
       "</table>\n",
       "</div>"
      ],
      "text/plain": [
       "    id  overall_qual  year_built  year_remod/add  mas_vnr_area  exter_qual  \\\n",
       "0  109             6        1976            2005         289.0           2   \n",
       "1  544             7        1996            1997         132.0           2   \n",
       "2  153             5        1953            2007           0.0           1   \n",
       "3  318             5        2006            2007           0.0           1   \n",
       "4  255             6        1900            1993           0.0           1   \n",
       "\n",
       "   bsmtfin_sf_1  total_bsmt_sf  1st_flr_sf  gr_liv_area  full_bath  \\\n",
       "0         533.0          725.0         725         1479          2   \n",
       "1         637.0          913.0         913         2122          2   \n",
       "2         731.0         1057.0        1057         1057          1   \n",
       "3           0.0          384.0         744         1444          2   \n",
       "4           0.0          676.0         831         1445          2   \n",
       "\n",
       "   kitchen_qual  totrms_abvgrd  fireplaces  garage_cars  garage_area  \\\n",
       "0             2              6           0          2.0        475.0   \n",
       "1             2              8           1          2.0        559.0   \n",
       "2             2              5           0          1.0        246.0   \n",
       "3             1              7           0          2.0        400.0   \n",
       "4             1              6           0          2.0        484.0   \n",
       "\n",
       "   saleprice  lifespan  foundation_BrkTil  foundation_CBlock  \\\n",
       "0     130500        34                  0                  1   \n",
       "1     220000        13                  0                  0   \n",
       "2     109000        57                  0                  1   \n",
       "3     174000         4                  0                  0   \n",
       "4     138500       110                  0                  0   \n",
       "\n",
       "   foundation_PConc  foundation_Slab  foundation_Stone  foundation_Wood  \\\n",
       "0                 0                0                 0                0   \n",
       "1                 1                0                 0                0   \n",
       "2                 0                0                 0                0   \n",
       "3                 1                0                 0                0   \n",
       "4                 1                0                 0                0   \n",
       "\n",
       "   mas_vnr_type_BrkCmn  mas_vnr_type_BrkFace  mas_vnr_type_None  \\\n",
       "0                    0                     1                  0   \n",
       "1                    0                     1                  0   \n",
       "2                    0                     0                  1   \n",
       "3                    0                     0                  1   \n",
       "4                    0                     0                  1   \n",
       "\n",
       "   mas_vnr_type_Stone  \n",
       "0                   0  \n",
       "1                   0  \n",
       "2                   0  \n",
       "3                   0  \n",
       "4                   0  "
      ]
     },
     "execution_count": 961,
     "metadata": {},
     "output_type": "execute_result"
    }
   ],
   "source": [
    "#Reading housing_data.csv Files\n",
    "housing_data = pd.read_csv('../Code/housing_data.csv' )\n",
    "housing_data.head()\n"
   ]
  },
  {
   "cell_type": "code",
   "execution_count": 962,
   "id": "bcca5fb0",
   "metadata": {},
   "outputs": [
    {
     "data": {
      "text/html": [
       "<div>\n",
       "<style scoped>\n",
       "    .dataframe tbody tr th:only-of-type {\n",
       "        vertical-align: middle;\n",
       "    }\n",
       "\n",
       "    .dataframe tbody tr th {\n",
       "        vertical-align: top;\n",
       "    }\n",
       "\n",
       "    .dataframe thead th {\n",
       "        text-align: right;\n",
       "    }\n",
       "</style>\n",
       "<table border=\"1\" class=\"dataframe\">\n",
       "  <thead>\n",
       "    <tr style=\"text-align: right;\">\n",
       "      <th></th>\n",
       "      <th>id</th>\n",
       "      <th>overall_qual</th>\n",
       "      <th>year_built</th>\n",
       "      <th>year_remod/add</th>\n",
       "      <th>mas_vnr_area</th>\n",
       "      <th>exter_qual</th>\n",
       "      <th>bsmtfin_sf_1</th>\n",
       "      <th>total_bsmt_sf</th>\n",
       "      <th>1st_flr_sf</th>\n",
       "      <th>gr_liv_area</th>\n",
       "      <th>full_bath</th>\n",
       "      <th>kitchen_qual</th>\n",
       "      <th>totrms_abvgrd</th>\n",
       "      <th>fireplaces</th>\n",
       "      <th>garage_cars</th>\n",
       "      <th>garage_area</th>\n",
       "      <th>lifespan</th>\n",
       "      <th>foundation_BrkTil</th>\n",
       "      <th>foundation_CBlock</th>\n",
       "      <th>foundation_PConc</th>\n",
       "      <th>foundation_Slab</th>\n",
       "      <th>foundation_Stone</th>\n",
       "      <th>foundation_Wood</th>\n",
       "      <th>mas_vnr_type_BrkCmn</th>\n",
       "      <th>mas_vnr_type_BrkFace</th>\n",
       "      <th>mas_vnr_type_None</th>\n",
       "      <th>mas_vnr_type_Stone</th>\n",
       "    </tr>\n",
       "  </thead>\n",
       "  <tbody>\n",
       "    <tr>\n",
       "      <th>0</th>\n",
       "      <td>2658</td>\n",
       "      <td>6</td>\n",
       "      <td>1910</td>\n",
       "      <td>1950</td>\n",
       "      <td>0.0</td>\n",
       "      <td>1</td>\n",
       "      <td>0</td>\n",
       "      <td>1020</td>\n",
       "      <td>908</td>\n",
       "      <td>1928</td>\n",
       "      <td>2</td>\n",
       "      <td>0</td>\n",
       "      <td>9</td>\n",
       "      <td>0</td>\n",
       "      <td>1</td>\n",
       "      <td>440</td>\n",
       "      <td>96</td>\n",
       "      <td>0</td>\n",
       "      <td>0</td>\n",
       "      <td>0</td>\n",
       "      <td>0</td>\n",
       "      <td>1</td>\n",
       "      <td>0</td>\n",
       "      <td>0</td>\n",
       "      <td>0</td>\n",
       "      <td>1</td>\n",
       "      <td>0</td>\n",
       "    </tr>\n",
       "    <tr>\n",
       "      <th>1</th>\n",
       "      <td>2718</td>\n",
       "      <td>5</td>\n",
       "      <td>1977</td>\n",
       "      <td>1977</td>\n",
       "      <td>0.0</td>\n",
       "      <td>1</td>\n",
       "      <td>0</td>\n",
       "      <td>1967</td>\n",
       "      <td>1967</td>\n",
       "      <td>1967</td>\n",
       "      <td>2</td>\n",
       "      <td>1</td>\n",
       "      <td>10</td>\n",
       "      <td>0</td>\n",
       "      <td>2</td>\n",
       "      <td>580</td>\n",
       "      <td>29</td>\n",
       "      <td>0</td>\n",
       "      <td>1</td>\n",
       "      <td>0</td>\n",
       "      <td>0</td>\n",
       "      <td>0</td>\n",
       "      <td>0</td>\n",
       "      <td>0</td>\n",
       "      <td>0</td>\n",
       "      <td>1</td>\n",
       "      <td>0</td>\n",
       "    </tr>\n",
       "    <tr>\n",
       "      <th>2</th>\n",
       "      <td>2414</td>\n",
       "      <td>7</td>\n",
       "      <td>2006</td>\n",
       "      <td>2006</td>\n",
       "      <td>0.0</td>\n",
       "      <td>2</td>\n",
       "      <td>554</td>\n",
       "      <td>654</td>\n",
       "      <td>664</td>\n",
       "      <td>1496</td>\n",
       "      <td>2</td>\n",
       "      <td>2</td>\n",
       "      <td>7</td>\n",
       "      <td>1</td>\n",
       "      <td>2</td>\n",
       "      <td>426</td>\n",
       "      <td>0</td>\n",
       "      <td>0</td>\n",
       "      <td>0</td>\n",
       "      <td>1</td>\n",
       "      <td>0</td>\n",
       "      <td>0</td>\n",
       "      <td>0</td>\n",
       "      <td>0</td>\n",
       "      <td>0</td>\n",
       "      <td>1</td>\n",
       "      <td>0</td>\n",
       "    </tr>\n",
       "    <tr>\n",
       "      <th>3</th>\n",
       "      <td>1989</td>\n",
       "      <td>5</td>\n",
       "      <td>1923</td>\n",
       "      <td>2006</td>\n",
       "      <td>0.0</td>\n",
       "      <td>2</td>\n",
       "      <td>0</td>\n",
       "      <td>968</td>\n",
       "      <td>968</td>\n",
       "      <td>968</td>\n",
       "      <td>1</td>\n",
       "      <td>1</td>\n",
       "      <td>5</td>\n",
       "      <td>0</td>\n",
       "      <td>2</td>\n",
       "      <td>480</td>\n",
       "      <td>84</td>\n",
       "      <td>0</td>\n",
       "      <td>1</td>\n",
       "      <td>0</td>\n",
       "      <td>0</td>\n",
       "      <td>0</td>\n",
       "      <td>0</td>\n",
       "      <td>0</td>\n",
       "      <td>0</td>\n",
       "      <td>1</td>\n",
       "      <td>0</td>\n",
       "    </tr>\n",
       "    <tr>\n",
       "      <th>4</th>\n",
       "      <td>625</td>\n",
       "      <td>6</td>\n",
       "      <td>1963</td>\n",
       "      <td>1963</td>\n",
       "      <td>247.0</td>\n",
       "      <td>1</td>\n",
       "      <td>609</td>\n",
       "      <td>1394</td>\n",
       "      <td>1394</td>\n",
       "      <td>1394</td>\n",
       "      <td>1</td>\n",
       "      <td>1</td>\n",
       "      <td>6</td>\n",
       "      <td>2</td>\n",
       "      <td>2</td>\n",
       "      <td>514</td>\n",
       "      <td>46</td>\n",
       "      <td>0</td>\n",
       "      <td>1</td>\n",
       "      <td>0</td>\n",
       "      <td>0</td>\n",
       "      <td>0</td>\n",
       "      <td>0</td>\n",
       "      <td>0</td>\n",
       "      <td>1</td>\n",
       "      <td>0</td>\n",
       "      <td>0</td>\n",
       "    </tr>\n",
       "  </tbody>\n",
       "</table>\n",
       "</div>"
      ],
      "text/plain": [
       "     id  overall_qual  year_built  year_remod/add  mas_vnr_area  exter_qual  \\\n",
       "0  2658             6        1910            1950           0.0           1   \n",
       "1  2718             5        1977            1977           0.0           1   \n",
       "2  2414             7        2006            2006           0.0           2   \n",
       "3  1989             5        1923            2006           0.0           2   \n",
       "4   625             6        1963            1963         247.0           1   \n",
       "\n",
       "   bsmtfin_sf_1  total_bsmt_sf  1st_flr_sf  gr_liv_area  full_bath  \\\n",
       "0             0           1020         908         1928          2   \n",
       "1             0           1967        1967         1967          2   \n",
       "2           554            654         664         1496          2   \n",
       "3             0            968         968          968          1   \n",
       "4           609           1394        1394         1394          1   \n",
       "\n",
       "   kitchen_qual  totrms_abvgrd  fireplaces  garage_cars  garage_area  \\\n",
       "0             0              9           0            1          440   \n",
       "1             1             10           0            2          580   \n",
       "2             2              7           1            2          426   \n",
       "3             1              5           0            2          480   \n",
       "4             1              6           2            2          514   \n",
       "\n",
       "   lifespan  foundation_BrkTil  foundation_CBlock  foundation_PConc  \\\n",
       "0        96                  0                  0                 0   \n",
       "1        29                  0                  1                 0   \n",
       "2         0                  0                  0                 1   \n",
       "3        84                  0                  1                 0   \n",
       "4        46                  0                  1                 0   \n",
       "\n",
       "   foundation_Slab  foundation_Stone  foundation_Wood  mas_vnr_type_BrkCmn  \\\n",
       "0                0                 1                0                    0   \n",
       "1                0                 0                0                    0   \n",
       "2                0                 0                0                    0   \n",
       "3                0                 0                0                    0   \n",
       "4                0                 0                0                    0   \n",
       "\n",
       "   mas_vnr_type_BrkFace  mas_vnr_type_None  mas_vnr_type_Stone  \n",
       "0                     0                  1                   0  \n",
       "1                     0                  1                   0  \n",
       "2                     0                  1                   0  \n",
       "3                     0                  1                   0  \n",
       "4                     1                  0                   0  "
      ]
     },
     "execution_count": 962,
     "metadata": {},
     "output_type": "execute_result"
    }
   ],
   "source": [
    "#Reading testHousing_data.csv Files\n",
    "testHousing_data = pd.read_csv('../Code/testHousing_data.csv' )\n",
    "testHousing_data.head()\n"
   ]
  },
  {
   "cell_type": "code",
   "execution_count": 963,
   "id": "65ea7a80",
   "metadata": {},
   "outputs": [
    {
     "data": {
      "text/plain": [
       "id                      0\n",
       "overall_qual            0\n",
       "year_built              0\n",
       "year_remod/add          0\n",
       "mas_vnr_area            0\n",
       "exter_qual              0\n",
       "bsmtfin_sf_1            0\n",
       "total_bsmt_sf           0\n",
       "1st_flr_sf              0\n",
       "gr_liv_area             0\n",
       "full_bath               0\n",
       "kitchen_qual            0\n",
       "totrms_abvgrd           0\n",
       "fireplaces              0\n",
       "garage_cars             0\n",
       "garage_area             0\n",
       "saleprice               0\n",
       "lifespan                0\n",
       "foundation_BrkTil       0\n",
       "foundation_CBlock       0\n",
       "foundation_PConc        0\n",
       "foundation_Slab         0\n",
       "foundation_Stone        0\n",
       "foundation_Wood         0\n",
       "mas_vnr_type_BrkCmn     0\n",
       "mas_vnr_type_BrkFace    0\n",
       "mas_vnr_type_None       0\n",
       "mas_vnr_type_Stone      0\n",
       "dtype: int64"
      ]
     },
     "execution_count": 963,
     "metadata": {},
     "output_type": "execute_result"
    }
   ],
   "source": [
    "housing_data.isnull().sum()"
   ]
  },
  {
   "cell_type": "code",
   "execution_count": 964,
   "id": "d65025fd",
   "metadata": {},
   "outputs": [
    {
     "data": {
      "text/plain": [
       "id                      0\n",
       "overall_qual            0\n",
       "year_built              0\n",
       "year_remod/add          0\n",
       "mas_vnr_area            0\n",
       "exter_qual              0\n",
       "bsmtfin_sf_1            0\n",
       "total_bsmt_sf           0\n",
       "1st_flr_sf              0\n",
       "gr_liv_area             0\n",
       "full_bath               0\n",
       "kitchen_qual            0\n",
       "totrms_abvgrd           0\n",
       "fireplaces              0\n",
       "garage_cars             0\n",
       "garage_area             0\n",
       "lifespan                0\n",
       "foundation_BrkTil       0\n",
       "foundation_CBlock       0\n",
       "foundation_PConc        0\n",
       "foundation_Slab         0\n",
       "foundation_Stone        0\n",
       "foundation_Wood         0\n",
       "mas_vnr_type_BrkCmn     0\n",
       "mas_vnr_type_BrkFace    0\n",
       "mas_vnr_type_None       0\n",
       "mas_vnr_type_Stone      0\n",
       "dtype: int64"
      ]
     },
     "execution_count": 964,
     "metadata": {},
     "output_type": "execute_result"
    }
   ],
   "source": [
    "testHousing_data.isnull().sum()"
   ]
  },
  {
   "cell_type": "code",
   "execution_count": 965,
   "id": "73be401f",
   "metadata": {},
   "outputs": [
    {
     "name": "stdout",
     "output_type": "stream",
     "text": [
      "<class 'pandas.core.frame.DataFrame'>\n",
      "RangeIndex: 2029 entries, 0 to 2028\n",
      "Data columns (total 28 columns):\n",
      " #   Column                Non-Null Count  Dtype  \n",
      "---  ------                --------------  -----  \n",
      " 0   id                    2029 non-null   int64  \n",
      " 1   overall_qual          2029 non-null   int64  \n",
      " 2   year_built            2029 non-null   int64  \n",
      " 3   year_remod/add        2029 non-null   int64  \n",
      " 4   mas_vnr_area          2029 non-null   float64\n",
      " 5   exter_qual            2029 non-null   int64  \n",
      " 6   bsmtfin_sf_1          2029 non-null   float64\n",
      " 7   total_bsmt_sf         2029 non-null   float64\n",
      " 8   1st_flr_sf            2029 non-null   int64  \n",
      " 9   gr_liv_area           2029 non-null   int64  \n",
      " 10  full_bath             2029 non-null   int64  \n",
      " 11  kitchen_qual          2029 non-null   int64  \n",
      " 12  totrms_abvgrd         2029 non-null   int64  \n",
      " 13  fireplaces            2029 non-null   int64  \n",
      " 14  garage_cars           2029 non-null   float64\n",
      " 15  garage_area           2029 non-null   float64\n",
      " 16  saleprice             2029 non-null   int64  \n",
      " 17  lifespan              2029 non-null   int64  \n",
      " 18  foundation_BrkTil     2029 non-null   int64  \n",
      " 19  foundation_CBlock     2029 non-null   int64  \n",
      " 20  foundation_PConc      2029 non-null   int64  \n",
      " 21  foundation_Slab       2029 non-null   int64  \n",
      " 22  foundation_Stone      2029 non-null   int64  \n",
      " 23  foundation_Wood       2029 non-null   int64  \n",
      " 24  mas_vnr_type_BrkCmn   2029 non-null   int64  \n",
      " 25  mas_vnr_type_BrkFace  2029 non-null   int64  \n",
      " 26  mas_vnr_type_None     2029 non-null   int64  \n",
      " 27  mas_vnr_type_Stone    2029 non-null   int64  \n",
      "dtypes: float64(5), int64(23)\n",
      "memory usage: 444.0 KB\n"
     ]
    }
   ],
   "source": [
    "housing_data.info()\n"
   ]
  },
  {
   "cell_type": "code",
   "execution_count": 966,
   "id": "2a8d380a",
   "metadata": {},
   "outputs": [
    {
     "name": "stdout",
     "output_type": "stream",
     "text": [
      "<class 'pandas.core.frame.DataFrame'>\n",
      "RangeIndex: 878 entries, 0 to 877\n",
      "Data columns (total 27 columns):\n",
      " #   Column                Non-Null Count  Dtype  \n",
      "---  ------                --------------  -----  \n",
      " 0   id                    878 non-null    int64  \n",
      " 1   overall_qual          878 non-null    int64  \n",
      " 2   year_built            878 non-null    int64  \n",
      " 3   year_remod/add        878 non-null    int64  \n",
      " 4   mas_vnr_area          878 non-null    float64\n",
      " 5   exter_qual            878 non-null    int64  \n",
      " 6   bsmtfin_sf_1          878 non-null    int64  \n",
      " 7   total_bsmt_sf         878 non-null    int64  \n",
      " 8   1st_flr_sf            878 non-null    int64  \n",
      " 9   gr_liv_area           878 non-null    int64  \n",
      " 10  full_bath             878 non-null    int64  \n",
      " 11  kitchen_qual          878 non-null    int64  \n",
      " 12  totrms_abvgrd         878 non-null    int64  \n",
      " 13  fireplaces            878 non-null    int64  \n",
      " 14  garage_cars           878 non-null    int64  \n",
      " 15  garage_area           878 non-null    int64  \n",
      " 16  lifespan              878 non-null    int64  \n",
      " 17  foundation_BrkTil     878 non-null    int64  \n",
      " 18  foundation_CBlock     878 non-null    int64  \n",
      " 19  foundation_PConc      878 non-null    int64  \n",
      " 20  foundation_Slab       878 non-null    int64  \n",
      " 21  foundation_Stone      878 non-null    int64  \n",
      " 22  foundation_Wood       878 non-null    int64  \n",
      " 23  mas_vnr_type_BrkCmn   878 non-null    int64  \n",
      " 24  mas_vnr_type_BrkFace  878 non-null    int64  \n",
      " 25  mas_vnr_type_None     878 non-null    int64  \n",
      " 26  mas_vnr_type_Stone    878 non-null    int64  \n",
      "dtypes: float64(1), int64(26)\n",
      "memory usage: 185.3 KB\n"
     ]
    }
   ],
   "source": [
    "testHousing_data.info()\n"
   ]
  },
  {
   "cell_type": "code",
   "execution_count": 967,
   "id": "1e7b428b",
   "metadata": {},
   "outputs": [
    {
     "data": {
      "text/plain": [
       "(2029, 28)"
      ]
     },
     "execution_count": 967,
     "metadata": {},
     "output_type": "execute_result"
    }
   ],
   "source": [
    "housing_data.shape"
   ]
  },
  {
   "cell_type": "code",
   "execution_count": 968,
   "id": "07511532",
   "metadata": {},
   "outputs": [
    {
     "data": {
      "text/plain": [
       "(878, 27)"
      ]
     },
     "execution_count": 968,
     "metadata": {},
     "output_type": "execute_result"
    }
   ],
   "source": [
    "testHousing_data.shape"
   ]
  },
  {
   "cell_type": "markdown",
   "id": "b0e2dd18",
   "metadata": {},
   "source": [
    "**Summary**\n",
    "\n",
    "For the data imported, there were a few findings:\n",
    "1. housing_data consist of 2029 rows and 28 columns while testHousing_data consist of 878 rows and 27 columns. \n",
    "    - The difference in row between the two dataset is that testHousing_data does not have a SalesPrice columns as we are suppose to predict the saleprice using regression model \n",
    "    - There are no null values in both the train and test housing dataset.\n",
    "    \n",
    "   \n",
    "    \n",
    "2. Both files contains a mixture of integer and float data types.\n",
    "3. Note that we kept ID in the dataset as it is required for kaggle submission even though ID doesn't add any contribution to the housing prices.\n",
    "\n",
    "\n"
   ]
  },
  {
   "cell_type": "markdown",
   "id": "a161fadc",
   "metadata": {},
   "source": [
    "## Additional Method to improve model prediction"
   ]
  },
  {
   "cell_type": "code",
   "execution_count": null,
   "id": "22c8ca86",
   "metadata": {},
   "outputs": [],
   "source": [
    "import pandas as pd \n",
    "from sklearn.pipeline import make_pipeline\n",
    "from sklearn.preprocessing import StandardScaler\n",
    "from sklearn.ensemble import RandonforestRegressor\n",
    "\n"
   ]
  },
  {
   "cell_type": "markdown",
   "id": "1ee78503",
   "metadata": {},
   "source": [
    "## Train Test Split"
   ]
  },
  {
   "cell_type": "code",
   "execution_count": 969,
   "id": "ee542873",
   "metadata": {},
   "outputs": [],
   "source": [
    "#Creating Features Matrix (X) and target vector (y)\n",
    "features = [col for col in housing_data._get_numeric_data().columns if col != 'saleprice']\n",
    "X = housing_data[features]\n",
    "y = housing_data['saleprice']"
   ]
  },
  {
   "cell_type": "code",
   "execution_count": 970,
   "id": "ad78d4f3",
   "metadata": {},
   "outputs": [
    {
     "name": "stdout",
     "output_type": "stream",
     "text": [
      "X:  (2029, 27)\n",
      "y:  (2029,)\n"
     ]
    }
   ],
   "source": [
    "print('X: ', X.shape)\n",
    "print('y: ', y.shape)"
   ]
  },
  {
   "cell_type": "code",
   "execution_count": 971,
   "id": "5fc355e0",
   "metadata": {},
   "outputs": [],
   "source": [
    "X_train, X_test, y_train, y_test = train_test_split(X, y, train_size=0.80, random_state=42)\n"
   ]
  },
  {
   "cell_type": "code",
   "execution_count": 972,
   "id": "7f513ab5",
   "metadata": {},
   "outputs": [
    {
     "name": "stdout",
     "output_type": "stream",
     "text": [
      "X_train:  (1623, 27)\n",
      "y_train:  (1623,)\n",
      "X_test:  (406, 27)\n"
     ]
    }
   ],
   "source": [
    "#After splitting the data (75/25)\n",
    "print('X_train: ', X_train.shape)\n",
    "print('y_train: ', y_train.shape)\n",
    "print('X_test: ', X_test.shape)"
   ]
  },
  {
   "cell_type": "markdown",
   "id": "16f57c27",
   "metadata": {},
   "source": [
    "## Model Prep: Scaling"
   ]
  },
  {
   "cell_type": "code",
   "execution_count": 973,
   "id": "acf6ee5b",
   "metadata": {},
   "outputs": [],
   "source": [
    "#Scaling data from housing_data(train.csv)\n",
    "ss = StandardScaler()\n",
    "ss.fit(X_train)\n",
    "X_train = ss.transform(X_train)\n",
    "X_test = ss.transform(X_test)\n"
   ]
  },
  {
   "cell_type": "markdown",
   "id": "96c94397",
   "metadata": {},
   "source": [
    "## Obtaining Lasso Regression Alpha"
   ]
  },
  {
   "cell_type": "code",
   "execution_count": 974,
   "id": "1c640c71",
   "metadata": {
    "scrolled": true
   },
   "outputs": [
    {
     "name": "stderr",
     "output_type": "stream",
     "text": [
      "[Parallel(n_jobs=1)]: Using backend SequentialBackend with 1 concurrent workers.\n",
      "................................................................................................................................................................................................................................................................................................................................................................................................................................................................................................................................................................................................................................................................................................................................................................................................................................................................................................................................................................................................................................................................................................................................................................................................................................................................................................................................................................................................................................................................................................................................................................................................................................................................................................................................................................................................................................................................................................................................................................................................................................................................................................................................................................................................................................................................................................................................................................................................................................................................................................................................................................................................................................................................................................................................................................................................................................................................................................................................................................................................................................................................................................................................................................................................................................................................................................................................................................................................................................................................................................................................................................................................................................................................................................................................................................................................................................................................................................................................................................................................................................................................................................................................................................................................................................................................................................................................................................................................................................................................................................................................................................................................................................................................................................................................................................................................................................................................................................................................................................................................................................"
     ]
    },
    {
     "name": "stdout",
     "output_type": "stream",
     "text": [
      "681.6223782457806\n"
     ]
    },
    {
     "name": "stderr",
     "output_type": "stream",
     "text": [
      "........................................................................................................................................................................[Parallel(n_jobs=1)]: Done  10 out of  10 | elapsed:    1.3s finished\n"
     ]
    }
   ],
   "source": [
    "#Optimizing Lasso Regression alpha\n",
    "optimal_lasso = LassoCV(n_alphas=500, cv=10, verbose =1)\n",
    "optimal_lasso.fit(X_train, y_train)\n",
    "\n",
    "print(optimal_lasso.alpha_)"
   ]
  },
  {
   "cell_type": "code",
   "execution_count": 975,
   "id": "e564ba7f",
   "metadata": {},
   "outputs": [
    {
     "name": "stdout",
     "output_type": "stream",
     "text": [
      "[0.88321958 0.87711211 0.82915502 0.83609803 0.86226168 0.4700271\n",
      " 0.8226267  0.85293928 0.65330639 0.85146036]\n"
     ]
    }
   ],
   "source": [
    "#Cross Validate Lasso R^2 with optimal alpha\n",
    "lasso = Lasso(alpha=optimal_lasso.alpha_)\n",
    "lasso_scores = cross_val_score(lasso, X_train, y_train, cv=10)\n",
    "\n",
    "print(lasso_scores)"
   ]
  },
  {
   "cell_type": "markdown",
   "id": "74ad490f",
   "metadata": {},
   "source": [
    "## Obtaining Ridge Regression Alpha"
   ]
  },
  {
   "cell_type": "code",
   "execution_count": 976,
   "id": "39ef96e7",
   "metadata": {},
   "outputs": [
    {
     "name": "stdout",
     "output_type": "stream",
     "text": [
      "CPU times: user 14 µs, sys: 0 ns, total: 14 µs\n",
      "Wall time: 4.05 µs\n",
      "243.74441501222216\n"
     ]
    }
   ],
   "source": [
    "#Optimal value for Ridge regression alpha\n",
    "%time\n",
    "ridge_alphas = np.logspace(0, 5, 200)\n",
    "\n",
    "optimal_ridge = RidgeCV(alphas=ridge_alphas, cv=10)\n",
    "optimal_ridge.fit(X_train, y_train)\n",
    "\n",
    "print (optimal_ridge.alpha_)"
   ]
  },
  {
   "cell_type": "code",
   "execution_count": 977,
   "id": "0e0d3711",
   "metadata": {},
   "outputs": [
    {
     "name": "stdout",
     "output_type": "stream",
     "text": [
      "[0.87610332 0.87404182 0.83164512 0.83410764 0.86664487 0.49563038\n",
      " 0.81766509 0.85749259 0.65725258 0.84956987]\n"
     ]
    }
   ],
   "source": [
    "ridge = Ridge(alpha=optimal_ridge.alpha_)\n",
    "ridge_scores = cross_val_score(ridge, X_train, y_train, cv=10)\n",
    "print(ridge_scores)"
   ]
  },
  {
   "cell_type": "markdown",
   "id": "11c0bdda",
   "metadata": {},
   "source": [
    "## Cross Validation Result\n"
   ]
  },
  {
   "cell_type": "code",
   "execution_count": 978,
   "id": "f967acd5",
   "metadata": {
    "scrolled": true
   },
   "outputs": [
    {
     "name": "stdout",
     "output_type": "stream",
     "text": [
      "Lasso Cross Validation avg score:  0.7938206247898204\n",
      "Lasso Cross Validation MSE score:  34418.080548056736\n"
     ]
    }
   ],
   "source": [
    "#Lasso R^2 And MSE Score comparision\n",
    "print('Lasso Cross Validation avg score: ',lasso_scores.mean())\n",
    "lasso_scores_mse = -cross_val_score(lasso, X_train, y_train, cv=10, scoring='neg_root_mean_squared_error').mean()\n",
    "print ('Lasso Cross Validation MSE score: ',lasso_scores_mse)"
   ]
  },
  {
   "cell_type": "code",
   "execution_count": 979,
   "id": "fa369508",
   "metadata": {
    "scrolled": true
   },
   "outputs": [
    {
     "name": "stdout",
     "output_type": "stream",
     "text": [
      "Ridge Cross Validation avg score:  0.7960153275128828\n",
      "Ridge Cross Validation MSE score:  34359.40580487651\n"
     ]
    }
   ],
   "source": [
    "#Ridge R^2 and MSE score comparision\n",
    "print('Ridge Cross Validation avg score: ',ridge_scores.mean())\n",
    "ridge_scores_mse = -cross_val_score(ridge, X_train, y_train, cv=10, scoring='neg_root_mean_squared_error').mean()\n",
    "print ('Ridge Cross Validation MSE score: ',ridge_scores_mse)"
   ]
  },
  {
   "cell_type": "code",
   "execution_count": 980,
   "id": "97c1e557",
   "metadata": {},
   "outputs": [
    {
     "name": "stdout",
     "output_type": "stream",
     "text": [
      "Linear Cross Validation Score:  0.7950715869069226\n",
      "Linear Cross Validation MSE score:  34417.362433265735\n"
     ]
    }
   ],
   "source": [
    "lr = LinearRegression()\n",
    "lr_scores = cross_val_score(lr, X_train, y_train, cv=5)\n",
    "print('Linear Cross Validation Score: ',lr_scores.mean())\n",
    "lr_scores_mse = -cross_val_score(lr, X_train, y_train, cv=10, scoring='neg_root_mean_squared_error').mean()\n",
    "print ('Linear Cross Validation MSE score: ',lr_scores_mse)\n"
   ]
  },
  {
   "cell_type": "markdown",
   "id": "69137f1f",
   "metadata": {},
   "source": [
    "**Observations**\n",
    "\n",
    "1. The train and test data are split according to 75/15 ratio. \n",
    "2. Looking at the cross validation result among the three regression, Ridge regression stands to have the highest score and lowest Mean squared error among all three model. As a result, we will be using Ridge model for predictions. \n"
   ]
  },
  {
   "cell_type": "markdown",
   "id": "2db08417",
   "metadata": {},
   "source": [
    "## Model Fitting"
   ]
  },
  {
   "cell_type": "markdown",
   "id": "7c6c1c84",
   "metadata": {},
   "source": [
    "### Fitting Ridge regression (Highest CV score)"
   ]
  },
  {
   "cell_type": "code",
   "execution_count": 981,
   "id": "bda50cc7",
   "metadata": {},
   "outputs": [
    {
     "name": "stdout",
     "output_type": "stream",
     "text": [
      "Ridge R^2 Train Score:  0.8153277176826459\n",
      "Ridge R^2 Test Score:  0.8430967815845637\n"
     ]
    }
   ],
   "source": [
    "#Fitting Ridge Regression\n",
    "ridge.fit(X_train, y_train)\n",
    "ridge_pred = ridge.predict(X_test) \n",
    "print('Ridge R^2 Train Score: ', r2_score(y_train,ridge.predict(X_train)))\n",
    "print('Ridge R^2 Test Score: ',r2_score(y_test,ridge_pred))"
   ]
  },
  {
   "cell_type": "code",
   "execution_count": 982,
   "id": "0ddbbac8",
   "metadata": {},
   "outputs": [
    {
     "name": "stdout",
     "output_type": "stream",
     "text": [
      "Ridge RMSE Train:  34006.97458413184\n",
      "Ridge RMSE Test:  30676.693948816865\n"
     ]
    }
   ],
   "source": [
    "### Checking the Mean Squared Error for Ridge train and test set\n",
    "print('Ridge RMSE Train: ',mean_squared_error(y_train, ridge.predict(X_train),squared=False))\n",
    "print('Ridge RMSE Test: ', mean_squared_error(y_test, ridge_pred,squared=False))\n"
   ]
  },
  {
   "cell_type": "markdown",
   "id": "758f98cf",
   "metadata": {},
   "source": [
    "### Fitting Linear Regression\n",
    " (Added for educational purpose)"
   ]
  },
  {
   "cell_type": "code",
   "execution_count": 983,
   "id": "51265102",
   "metadata": {},
   "outputs": [
    {
     "name": "stdout",
     "output_type": "stream",
     "text": [
      "Lr R^2 Train score:  0.8184319337497874\n",
      "Lr R^2 Test score:  0.8451845117292868\n"
     ]
    }
   ],
   "source": [
    "#Fitting Linear regression\n",
    "lr.fit(X_train, y_train)\n",
    "lr_pred = lr.predict(X_test)\n",
    "print('Lr R^2 Train score: ', r2_score(y_train,lr.predict(X_train)))\n",
    "print('Lr R^2 Test score: ', r2_score(y_test,lr_pred))"
   ]
  },
  {
   "cell_type": "code",
   "execution_count": 984,
   "id": "07855ecd",
   "metadata": {},
   "outputs": [
    {
     "name": "stdout",
     "output_type": "stream",
     "text": [
      "Linear RMSE Train:  33719.946171665106\n",
      "Linear RMSE Test:  30471.920806822498\n"
     ]
    }
   ],
   "source": [
    "#Checking the Root Mean Squared Error for Linear train and test set\n",
    "print('Linear RMSE Train: ', mean_squared_error(y_train, lr.predict(X_train),squared=False))\n",
    "print('Linear RMSE Test: ', mean_squared_error(y_test, lr_pred,squared=False))"
   ]
  },
  {
   "cell_type": "markdown",
   "id": "e4806c2c",
   "metadata": {},
   "source": [
    "### Fitting Lasso regression\n",
    " (Added for educational purpose)"
   ]
  },
  {
   "cell_type": "code",
   "execution_count": 985,
   "id": "3f446dc2",
   "metadata": {},
   "outputs": [
    {
     "name": "stdout",
     "output_type": "stream",
     "text": [
      "Lasso R^2 Train score:  0.8168222817779676\n",
      "Lasso R^2 Test score:  0.8450243632711133\n"
     ]
    }
   ],
   "source": [
    "#Fitting Lasso regression (Can break this into smaller print out)\n",
    "lasso.fit(X_train, y_train)\n",
    "lasso_pred = lasso.predict(X_test)\n",
    "print('Lasso R^2 Train score: ',r2_score(y_train, lasso.predict(X_train)))\n",
    "print('Lasso R^2 Test score: ',r2_score(y_test, lasso_pred))\n"
   ]
  },
  {
   "cell_type": "code",
   "execution_count": 986,
   "id": "fc042264",
   "metadata": {},
   "outputs": [
    {
     "name": "stdout",
     "output_type": "stream",
     "text": [
      "Lasso RMSE Train:  33869.084765255146\n",
      "Lasso RMSE Test:  30487.677530545392\n"
     ]
    }
   ],
   "source": [
    "#Checking the Root Mean Squared Error for Lasso train and test set\n",
    "print('Lasso RMSE Train: ', mean_squared_error(y_train, lasso.predict(X_train),squared=False))\n",
    "print('Lasso RMSE Test: ', mean_squared_error(y_test, lasso_pred,squared=False))"
   ]
  },
  {
   "cell_type": "code",
   "execution_count": 987,
   "id": "7faea492",
   "metadata": {},
   "outputs": [
    {
     "data": {
      "text/plain": [
       "182631.80187284376"
      ]
     },
     "execution_count": 987,
     "metadata": {},
     "output_type": "execute_result"
    }
   ],
   "source": [
    "housing_data['saleprice'].mean()"
   ]
  },
  {
   "cell_type": "markdown",
   "id": "b8efb2f2",
   "metadata": {},
   "source": [
    "**Observation**\n",
    "\n",
    "1. All three regression model R^2 test score is above 80% which is above the threshold requirement. \n",
    "2. The difference between train and test accuracy of less than 0.03 which indicates that the model is quite accuracy in its predictions against actual sales price. \n",
    "3. The Root Mean Squared Error (RSME) results indicates the range vlaue of prediction error. This means that the possible error in value is around 3400 from its mean. (The lower the better as it would indicates that the value of prediction error is small) \n",
    "4. For our selected Ridge regression model, it scored an accuracy (R^2) of 84.3% with a RSME score of 30676. \n",
    "    - This indicates a very high accruacy of our machine learning predictive model with the range error to be around 16% (RMSE/Saleprice mean = 30676/182631). \n",
    "    - This indicates that for every Sales price prediction, there will be a +/- 30676 potential range error ontop of the saleprice. \n"
   ]
  },
  {
   "cell_type": "markdown",
   "id": "498bdd61",
   "metadata": {},
   "source": [
    "## Data Dictionary:\n",
    "\n",
    "|Method|R2 Score|RMSE Score|\n",
    "|---|---|---| \n",
    "|Ridge Regression - Train|0.8153|34006|\n",
    "|**Ridge Regression - Test**|**0.8430**|**30676**|\n",
    "|Lasso Regression - Train|0.8168|33869| \n",
    "|Lasso Regression - Test|0.8450|30487|\n",
    "|Linear Regression - Train|0.8184|33719|\n",
    "|Linear Regression - Test|0.8451|30471|\n"
   ]
  },
  {
   "cell_type": "markdown",
   "id": "2acda78b",
   "metadata": {},
   "source": [
    "## Evaluation"
   ]
  },
  {
   "cell_type": "code",
   "execution_count": 988,
   "id": "f3bcfc20",
   "metadata": {},
   "outputs": [
    {
     "data": {
      "text/html": [
       "<div>\n",
       "<style scoped>\n",
       "    .dataframe tbody tr th:only-of-type {\n",
       "        vertical-align: middle;\n",
       "    }\n",
       "\n",
       "    .dataframe tbody tr th {\n",
       "        vertical-align: top;\n",
       "    }\n",
       "\n",
       "    .dataframe thead th {\n",
       "        text-align: right;\n",
       "    }\n",
       "</style>\n",
       "<table border=\"1\" class=\"dataframe\">\n",
       "  <thead>\n",
       "    <tr style=\"text-align: right;\">\n",
       "      <th></th>\n",
       "      <th>variable</th>\n",
       "      <th>coef</th>\n",
       "      <th>abs_coef</th>\n",
       "    </tr>\n",
       "  </thead>\n",
       "  <tbody>\n",
       "    <tr>\n",
       "      <th>1</th>\n",
       "      <td>overall_qual</td>\n",
       "      <td>15548.653973</td>\n",
       "      <td>15548.653973</td>\n",
       "    </tr>\n",
       "    <tr>\n",
       "      <th>9</th>\n",
       "      <td>gr_liv_area</td>\n",
       "      <td>11439.226907</td>\n",
       "      <td>11439.226907</td>\n",
       "    </tr>\n",
       "    <tr>\n",
       "      <th>5</th>\n",
       "      <td>exter_qual</td>\n",
       "      <td>9201.686978</td>\n",
       "      <td>9201.686978</td>\n",
       "    </tr>\n",
       "    <tr>\n",
       "      <th>11</th>\n",
       "      <td>kitchen_qual</td>\n",
       "      <td>8939.544767</td>\n",
       "      <td>8939.544767</td>\n",
       "    </tr>\n",
       "    <tr>\n",
       "      <th>4</th>\n",
       "      <td>mas_vnr_area</td>\n",
       "      <td>8120.660915</td>\n",
       "      <td>8120.660915</td>\n",
       "    </tr>\n",
       "    <tr>\n",
       "      <th>6</th>\n",
       "      <td>bsmtfin_sf_1</td>\n",
       "      <td>6993.743619</td>\n",
       "      <td>6993.743619</td>\n",
       "    </tr>\n",
       "    <tr>\n",
       "      <th>13</th>\n",
       "      <td>fireplaces</td>\n",
       "      <td>6737.033712</td>\n",
       "      <td>6737.033712</td>\n",
       "    </tr>\n",
       "    <tr>\n",
       "      <th>12</th>\n",
       "      <td>totrms_abvgrd</td>\n",
       "      <td>5346.698728</td>\n",
       "      <td>5346.698728</td>\n",
       "    </tr>\n",
       "    <tr>\n",
       "      <th>8</th>\n",
       "      <td>1st_flr_sf</td>\n",
       "      <td>5113.138217</td>\n",
       "      <td>5113.138217</td>\n",
       "    </tr>\n",
       "    <tr>\n",
       "      <th>15</th>\n",
       "      <td>garage_area</td>\n",
       "      <td>5054.617357</td>\n",
       "      <td>5054.617357</td>\n",
       "    </tr>\n",
       "  </tbody>\n",
       "</table>\n",
       "</div>"
      ],
      "text/plain": [
       "         variable          coef      abs_coef\n",
       "1    overall_qual  15548.653973  15548.653973\n",
       "9     gr_liv_area  11439.226907  11439.226907\n",
       "5      exter_qual   9201.686978   9201.686978\n",
       "11   kitchen_qual   8939.544767   8939.544767\n",
       "4    mas_vnr_area   8120.660915   8120.660915\n",
       "6    bsmtfin_sf_1   6993.743619   6993.743619\n",
       "13     fireplaces   6737.033712   6737.033712\n",
       "12  totrms_abvgrd   5346.698728   5346.698728\n",
       "8      1st_flr_sf   5113.138217   5113.138217\n",
       "15    garage_area   5054.617357   5054.617357"
      ]
     },
     "execution_count": 988,
     "metadata": {},
     "output_type": "execute_result"
    }
   ],
   "source": [
    "#Sorting top 10 feature that can affect salesprice\n",
    "ridge_coefs = pd.DataFrame({'variable': X.columns,\n",
    "                            'coef': ridge.coef_,\n",
    "                            'abs_coef': abs(ridge.coef_)})\n",
    "ridge_coefs.sort_values('abs_coef',inplace=True, ascending=False)\n",
    "ridge_coefs.head(10)"
   ]
  },
  {
   "cell_type": "code",
   "execution_count": 989,
   "id": "082c9a01",
   "metadata": {},
   "outputs": [],
   "source": [
    "#Not applicable as we used Ridge regression(use for lasso)\n",
    "#print('Percent variables zeroed out: ', np.sum((ridge.coef_==0))/float(X.shape[0]))\n"
   ]
  },
  {
   "cell_type": "code",
   "execution_count": 990,
   "id": "fcbe1b41",
   "metadata": {},
   "outputs": [
    {
     "data": {
      "image/png": "[encoded data removed]",
      "text/plain": [
       "<Figure size 432x288 with 1 Axes>"
      ]
     },
     "metadata": {
      "needs_background": "light"
     },
     "output_type": "display_data"
    }
   ],
   "source": [
    "ridge_coef = pd.DataFrame(ridge.coef_,index=features)\n",
    "\n",
    "ridge_coef.columns = ['Price change']\n",
    "ridge_coef.sort_values('Price change', ascending=True, inplace = True)\n",
    "ridge_coef.plot(kind='barh')\n",
    "plt.title('Price value change based on features', size=15)\n",
    "plt.xlabel('Dollar change ($)')\n",
    "plt.ylabel('Features')\n",
    "plt.show()\n",
    "\n",
    "\n",
    "#Displaying the Correlation coefficient of the features\n",
    "#pd.Series(ridge.coef_, index=features).plot.barh(figsize=(15,7))\n"
   ]
  },
  {
   "cell_type": "markdown",
   "id": "2e27985a",
   "metadata": {},
   "source": [
    "**Observation** \n",
    "\n",
    "After predicting the price, we can also evaluate the coefficient of the Ridge model to determine which are the top features that could affect the sales price. As we look at the table, a unit movement of Overall Quality would result in a shift of $19,461 in the saleprice. This is because there is a high positive correlation between the overall qualities of the house against the sales price. "
   ]
  },
  {
   "cell_type": "code",
   "execution_count": 991,
   "id": "9b18f9ff",
   "metadata": {},
   "outputs": [
    {
     "data": {
      "image/png": "[encoded data removed]",
      "text/plain": [
       "<Figure size 432x288 with 1 Axes>"
      ]
     },
     "metadata": {
      "needs_background": "light"
     },
     "output_type": "display_data"
    }
   ],
   "source": [
    "#Creating residual for lasso \n",
    "residual_ridge = y_test - ridge_pred\n",
    "fig,ax = figsize=(10,10)\n",
    "plt.scatter(x=ridge_pred,y=residual_ridge)\n",
    "plt.title('Ridge Regression Residual', size=15)\n",
    "plt.xlabel('Prediction value')\n",
    "plt.ylabel('Residual')\n",
    "plt.axhline(60000, color ='red')\n",
    "plt.axhline(-60000,color='red')\n",
    "plt.show()\n"
   ]
  },
  {
   "cell_type": "markdown",
   "id": "2311d2c3",
   "metadata": {},
   "source": [
    "**Observations**\n",
    "\n",
    "1. As we look at the price difference between predicted value and acutual value at each prediction value for housing prices using the Ridge regression model, we can see that most of prediction falls within +/- 60,000 or +/- 1 standard deviation from the mean. \n",
    "2. Most of the prediction below \\\\$250,000 have large amount of residual near 0 as compared to higher property values.\n",
    "3. We can clearly see that the residual starts to increase when the predicted value is above $250,000\n",
    "4. This indicates that our model were able to predict the price range very closely to the mean with a small amount of outliers. "
   ]
  },
  {
   "cell_type": "code",
   "execution_count": 992,
   "id": "877ecce3",
   "metadata": {},
   "outputs": [
    {
     "data": {
      "image/png": "[encoded data removed]",
      "text/plain": [
       "<Figure size 720x360 with 1 Axes>"
      ]
     },
     "metadata": {
      "needs_background": "light"
     },
     "output_type": "display_data"
    }
   ],
   "source": [
    "#True Value scatter plot\n",
    "plt.figure(figsize=(10,5))\n",
    "plt.scatter(x=lasso_pred, y=y_test)\n",
    "\n",
    "m,b = np.polyfit(lasso_pred,y_test,1)\n",
    "plt.plot(lasso_pred, m*lasso_pred+b)\n",
    "plt.show()"
   ]
  },
  {
   "cell_type": "markdown",
   "id": "e1da277a",
   "metadata": {},
   "source": [
    "**Summary**\n",
    "\n",
    "The residual scatterplot and the true value scatterplot is slightly different. As the Residual scatterplot is used to determine the predicted price against the **different** between predicted price and actual price. \n",
    "\n",
    "While for true value scatter plot, we are displaying both predicted price and actual value. Then i include the line of best fit to show how far each plot is away from the mean. Ideally what i want to see is majority of the plots to be close to the line with little to no outliers. So for the scatterplot, we can clearly see that for saleprice below 300k are generally very close to the line. While the amount above 300k have a larger spread between the plot and the line. This could be due to lack of data for saleprice above 350k.\n",
    "\n",
    "\n"
   ]
  },
  {
   "cell_type": "markdown",
   "id": "c55c2046",
   "metadata": {},
   "source": [
    "## Model Prep: \n",
    "Scaling and Prediction for testHousing_data for kaggle submission"
   ]
  },
  {
   "cell_type": "code",
   "execution_count": 993,
   "id": "67bbf00e",
   "metadata": {},
   "outputs": [
    {
     "data": {
      "text/plain": [
       "(2029, 28)"
      ]
     },
     "execution_count": 993,
     "metadata": {},
     "output_type": "execute_result"
    }
   ],
   "source": [
    "housing_data.shape"
   ]
  },
  {
   "cell_type": "code",
   "execution_count": 994,
   "id": "4adaa2be",
   "metadata": {},
   "outputs": [
    {
     "data": {
      "text/plain": [
       "(878, 27)"
      ]
     },
     "execution_count": 994,
     "metadata": {},
     "output_type": "execute_result"
    }
   ],
   "source": [
    "testHousing_data.shape"
   ]
  },
  {
   "cell_type": "code",
   "execution_count": 995,
   "id": "8328ab19",
   "metadata": {},
   "outputs": [],
   "source": [
    "#Scaling data from testHousing_data (test.csv)\n",
    "test_s = ss.transform(testHousing_data) \n",
    "\n"
   ]
  },
  {
   "cell_type": "markdown",
   "id": "d276a51b",
   "metadata": {},
   "source": [
    "As i've already fit the scaling model with the housing_data (train.csv) set, I would only need to apply scaling tranform on the test data to ensure that the scaling is similar. "
   ]
  },
  {
   "cell_type": "code",
   "execution_count": 996,
   "id": "64c9663f",
   "metadata": {},
   "outputs": [
    {
     "data": {
      "text/plain": [
       "(878,)"
      ]
     },
     "execution_count": 996,
     "metadata": {},
     "output_type": "execute_result"
    }
   ],
   "source": [
    "#Model predictions for testHousing_data(test.csv)\n",
    "y_prediction = ridge.predict(test_s)\n",
    "y_prediction.shape"
   ]
  },
  {
   "cell_type": "markdown",
   "id": "c4677f42",
   "metadata": {},
   "source": [
    "While most of the modelling above are done for the housing_data(train.csv) set, i would also need to apply the same scaling, model predictions as well as little adjustments for missing values to ensure i can use the model to predict the actual test dataset (testHousing_data or test.csv)"
   ]
  },
  {
   "cell_type": "code",
   "execution_count": 997,
   "id": "0a2cf93e",
   "metadata": {},
   "outputs": [],
   "source": [
    "#Passing the y_predictions into a dataframe\n",
    "saleprice_predict = pd.DataFrame(y_prediction, columns=['saleprice'])\n",
    "saleprice_id = pd.DataFrame(testHousing_data['id'])\n",
    "\n",
    "final_saleprice = pd.concat([saleprice_id,saleprice_predict], axis=1)\n",
    "\n",
    "#Converting to CSV file \n",
    "final_saleprice.to_csv('final_saleprice.csv', index=False)\n",
    "\n",
    "\n"
   ]
  },
  {
   "cell_type": "markdown",
   "id": "ecf20998",
   "metadata": {},
   "source": [
    "Last but not least, i will predict the sales price from the testhousing_data(test.csv) dataset on a dataframe and concatenate the ID to the salesprice. Next i will export the dataframe into csv file where i would upload the csv file on kaggle. "
   ]
  },
  {
   "cell_type": "markdown",
   "id": "22af3fdb",
   "metadata": {},
   "source": [
    "## Conclusion and recommendation "
   ]
  },
  {
   "cell_type": "markdown",
   "id": "6f26c624",
   "metadata": {},
   "source": [
    "**Conclusion**\n",
    "\n",
    "Features such as overall condition of the property, ground living area, external quality, kitchen quality and Masonry veneer area are highly correlated to the sales price. This indicates that generally buyers/sellers who focus on these aspect have a higher chance in selling the property at a higher price. While the 3 regression model were able to predict price at a high accruacy, there is a requirement to obtain more data and constantly update the features as more and more young adults are becoming homebuyers which may have a different view of features in relation to features. On top of that, although the accruacy is above benchmark of 80%, collection of more data may help in providing more insight leading to better results. Homesellers who aims to sell the house can also be remainded that the long the property is held without remodifications, the lower the future salesprice they might receive. \n",
    "\n",
    "**Recommendation**\n",
    "\n",
    "- Sellers of the property is to look into the key features that could result in selling the properties at a higher price. \n",
    "- While for speculative buyers, they can look into features that leads to a lower sales price and focus on remodifying the key features  in hope for a good chance to flip the property at a profit. \n",
    "\n",
    "- I would also recommend for the data collection to make the answers for survey/data entry mandatory to avoid having a large amount of empty values which might lead to low correlation/skewed result. \n",
    "\n",
    "- I would also include interest rates data/government intervention(eg: ABSD for Singapore) to see if there is a strong correlation between higher mortgage rates with lower property price. The rational for such idea is to see if higher mortgage rate would reduce the demand of properties which may lead to a drop in prices. \n",
    "\n",
    "\n"
   ]
  },
  {
   "cell_type": "code",
   "execution_count": null,
   "id": "cd14e9f9",
   "metadata": {},
   "outputs": [],
   "source": []
  }
 ],
 "metadata": {
  "kernelspec": {
   "display_name": "Python 3 (ipykernel)",
   "language": "python",
   "name": "python3"
  },
  "language_info": {
   "codemirror_mode": {
    "name": "ipython",
    "version": 3
   },
   "file_extension": ".py",
   "mimetype": "text/x-python",
   "name": "python",
   "nbconvert_exporter": "python",
   "pygments_lexer": "ipython3",
   "version": "3.9.12"
  }
 },
 "nbformat": 4,
 "nbformat_minor": 5
}
