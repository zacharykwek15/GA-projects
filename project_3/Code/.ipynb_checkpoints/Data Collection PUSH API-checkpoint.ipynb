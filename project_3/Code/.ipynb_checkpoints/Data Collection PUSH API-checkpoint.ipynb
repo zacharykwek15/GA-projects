{
 "cells": [
  {
   "cell_type": "code",
   "execution_count": null,
   "id": "cb5109c9",
   "metadata": {},
   "outputs": [],
   "source": [
    "import pandas as pd\n",
    "import requests"
   ]
  },
  {
   "cell_type": "markdown",
   "id": "d4fe5178",
   "metadata": {},
   "source": [
    "## Problem Statement"
   ]
  },
  {
   "cell_type": "markdown",
   "id": "9432b16f",
   "metadata": {},
   "source": [
    "## Data Collection with PushShift API"
   ]
  },
  {
   "cell_type": "code",
   "execution_count": 1,
   "id": "ecf494bf",
   "metadata": {},
   "outputs": [],
   "source": [
    "#Feature to get subreddit data\n",
    "def get_subreddit(subreddit, count):\n",
    "\n",
    "    url = 'https://api.pushshift.io/reddit/search/submission'\n",
    "    \n",
    "    params ={\n",
    "    'subreddit': subreddit,\n",
    "    'size':100,\n",
    "    }\n",
    "    \n",
    "    df_posts = pd.DataFrame()\n",
    "    for i in range(0,count):\n",
    "        if (i > 0):\n",
    "            params['before'] = df_posts['created_utc'][len(df_posts)-1]\n",
    "            \n",
    "        res = requests.get(url, params)\n",
    "        data = res.json()\n",
    "        df_posts = df_posts.append(data['data'], ignore_index=True)\n",
    "        print(df_posts.shape)\n",
    "    \n",
    "    return df_posts"
   ]
  },
  {
   "cell_type": "code",
   "execution_count": 14,
   "id": "9a4f93d2",
   "metadata": {},
   "outputs": [
    {
     "name": "stdout",
     "output_type": "stream",
     "text": [
      "(100, 81)\n",
      "(200, 83)\n",
      "(300, 83)\n",
      "(400, 83)\n",
      "(500, 83)\n",
      "(600, 85)\n",
      "(700, 85)\n",
      "(800, 85)\n",
      "(900, 85)\n",
      "(1000, 85)\n",
      "(1100, 85)\n",
      "(1200, 85)\n",
      "(1300, 85)\n",
      "(1400, 85)\n",
      "(1500, 85)\n",
      "(1600, 85)\n",
      "(1700, 85)\n",
      "(1800, 85)\n",
      "(1900, 85)\n",
      "(2000, 85)\n",
      "(2100, 85)\n",
      "(2200, 87)\n",
      "(2300, 87)\n",
      "(2400, 87)\n",
      "(2500, 87)\n",
      "(2600, 87)\n",
      "(2700, 87)\n",
      "(2800, 87)\n",
      "(2900, 87)\n",
      "(3000, 87)\n",
      "(3100, 87)\n",
      "(3200, 87)\n",
      "(3300, 87)\n",
      "(3400, 87)\n",
      "(3500, 87)\n",
      "(3600, 87)\n",
      "(3700, 87)\n",
      "(3800, 87)\n",
      "(3900, 87)\n",
      "(4000, 87)\n"
     ]
    }
   ],
   "source": [
    "#Collecting data from Pewdiepie Subreddit\n",
    "df_dota = get_subreddit('DotA2', 40)"
   ]
  },
  {
   "cell_type": "code",
   "execution_count": 15,
   "id": "5d5f26d1",
   "metadata": {
    "scrolled": true
   },
   "outputs": [
    {
     "name": "stdout",
     "output_type": "stream",
     "text": [
      "(100, 77)\n",
      "(200, 77)\n",
      "(300, 77)\n",
      "(400, 77)\n",
      "(500, 78)\n",
      "(599, 78)\n",
      "(699, 78)\n",
      "(799, 78)\n",
      "(899, 78)\n",
      "(999, 78)\n",
      "(1099, 79)\n",
      "(1199, 79)\n",
      "(1299, 79)\n",
      "(1399, 79)\n",
      "(1499, 80)\n",
      "(1599, 80)\n",
      "(1699, 80)\n",
      "(1799, 80)\n",
      "(1899, 80)\n",
      "(1999, 80)\n",
      "(2099, 80)\n",
      "(2199, 80)\n",
      "(2299, 80)\n",
      "(2399, 80)\n",
      "(2499, 80)\n",
      "(2599, 80)\n",
      "(2699, 80)\n",
      "(2799, 80)\n",
      "(2899, 80)\n",
      "(2999, 80)\n",
      "(3099, 80)\n",
      "(3199, 80)\n",
      "(3299, 80)\n",
      "(3399, 80)\n",
      "(3499, 80)\n",
      "(3599, 80)\n",
      "(3699, 80)\n",
      "(3799, 80)\n",
      "(3899, 80)\n",
      "(3999, 80)\n"
     ]
    }
   ],
   "source": [
    "#Collecting data from Markiplier Subreddit\n",
    "df_lol = get_subreddit('leagueoflegends', 40)"
   ]
  },
  {
   "cell_type": "code",
   "execution_count": 16,
   "id": "3e408a8b",
   "metadata": {},
   "outputs": [],
   "source": [
    "df_lol.to_csv('lol.csv')\n",
    "df_dota.to_csv('dota.csv')"
   ]
  }
 ],
 "metadata": {
  "kernelspec": {
   "display_name": "Python 3 (ipykernel)",
   "language": "python",
   "name": "python3"
  },
  "language_info": {
   "codemirror_mode": {
    "name": "ipython",
    "version": 3
   },
   "file_extension": ".py",
   "mimetype": "text/x-python",
   "name": "python",
   "nbconvert_exporter": "python",
   "pygments_lexer": "ipython3",
   "version": "3.9.7"
  }
 },
 "nbformat": 4,
 "nbformat_minor": 5
}
