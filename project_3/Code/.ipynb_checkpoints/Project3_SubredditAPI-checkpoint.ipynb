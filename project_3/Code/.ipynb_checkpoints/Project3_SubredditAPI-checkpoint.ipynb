{
 "cells": [
  {
   "cell_type": "markdown",
   "id": "136cd1a3",
   "metadata": {},
   "source": [
    "<img src=\"http://imgur.com/1ZcRyrc.png\" style=\"float: left; margin: 20px; height: 55px\">\n",
    "\n",
    "# Project 3\n"
   ]
  },
  {
   "cell_type": "markdown",
   "id": "6aab1de5",
   "metadata": {},
   "source": [
    "## Notebooks\n",
    "\n",
    "There is a total of 2 notebooks.\n",
    "- **Notebook 1 (Subreddit API)**\n",
    "- Notebook 2 (EDA and Modelling)\n",
    " \n",
    "**This is Notebook 1 (Subreddit API)**\n",
    "\n"
   ]
  },
  {
   "cell_type": "markdown",
   "id": "a52fdae1",
   "metadata": {},
   "source": [
    "## Background\n",
    "\n",
    "The gaming industry has evolved tremendously since the beginning of the first commercial arcade game, Pong that was created in 1972. Since then, the gaming industry has expanded by creating multiple platforms that can hold different types of games ranging from different devices such as consoles, personal computers to handheld devices. On top of that, the quality, game map size and speed in which the games can run have also been improving throughout the years.\n",
    "\n",
    "##### Before Year 2000\n",
    "Before the year 2000, most games have largely been held on platform such as PC, Console and Arcade. During that time, games that were held on various platforms were big and bulky which were not as portable as it is because cellphones during that time were not as advanced as compared to the current smartphones we are using now. The most successful released of the handheld system was the Gameboy that was invented by Nintendo during 1989. There was also a large disparity between the quality of the games as during the period before 2000 as games were usually held in 2-dimension. \n",
    "\n",
    "##### 2001 to present (The online boom)\n",
    "The rise of technology (Internet and Mobile) that led to a huge growth for the gaming industry. Since the invention of portable gaming consoles such as the playstation portable(PSP)/Vita, Nintendo switch, Mobile Phone(Smartphones) and the most recent announcement of Valve handheld steam console, the rapid growth of the gaming industry on handheld devices grew rapidly. Since then, the growth in gaming revenue hosted on PC, Arcade and Console has been on a gradual decline.\n",
    "([*Source*](https://www.visualcapitalist.com/50-years-gaming-history-revenue-stream/))\n",
    "\n",
    "###### Game Type\n",
    "In the past, the game quality and players interaction were limited to the technology that was available. Thus the games usually requires the players to complete a storyline and/or compete with a computer character. Players can only compete with another players if they are within close proximity through link cable, own similar devices and game type such a Pokemon. With the advanced in technology, games has since transformed into massive multipler online network(MMORPG) and are moving towards virtual reality. \n",
    "\n",
    "#### Online interactive games\n",
    "This advancement also led to the creation of games like DOTA, DOTA 2, GTAV, league of legends, World of warcraft just to name a few. During the period between 2003 to 2007, DOTA 1 was very popular in most of the computer cafe (aka Lan Shop) in Singapore. The popularity in DOTA could be due to the simplicity of the task but difficult on other aspect such as different skills/keys with different characters as well as competition against each other in teams. As more and more people start to own personal computers/laptops at home as well as the improvement in internet speed and connectivity, people started to gradually transit to home gaming. \n",
    "\n",
    "#### Gaming Industry Now\n",
    "The gaming industry has evolved beyond just playing game to pass time. With the growth and advance in technology, there are many avenues players can look to create content and collect income. To add further, the rise of e-sports, online streaming and competitions are creating more opportunities for passionate players to convert to choosing gaming as a career. Currently Dota2 is still very popular among gamers and the price pool has been increasing every year (excluding 2020). ([*Source*](https://www.statista.com/statistics/807889/dota-2-tournament-prize-pool/#:~:text=The%20timeline%20presents%20the%20annual,figure%20in%20the%20previous%20year.))\n",
    "\n",
    "Currently, Dota 2 leads the top games award price money with league of legend 3 placing lower. ([*Source*](https://www.esportsearnings.com/games)) The latest Dota 2 competition will be held on October 2022 in Singapore. This would definitely recreate the hyped over Dota 2 once again among users. \n",
    " ([*Source*](https://mothership.sg/2022/05/the-international-singapore/?fbclid=IwAR0urNOFJnsi6IMkndgF5PPgHS1qVT5zTsjNFWkGks79CxOB4jcJ0XLhNX8))\n",
    "\n"
   ]
  },
  {
   "cell_type": "markdown",
   "id": "651b9410",
   "metadata": {},
   "source": [
    "## Problem Statement\n",
    "\n",
    "We are a team of data scientist that are currently employed by Twitch. As twitch has been successful in their streaming business, recently twitch plans to create a forum community and has created a beta forum where they engaged a small group of players to test the effectiveness of the forum by creating content and comments to attract users. Due to the overwhelming response, the beta forum is currently filled with comments ranging from Dota2, League of legends to other games such as Valorant. Players who are only interested in Dota 2 have to scroll through a bunch of comments that were not related and thus raised a feedback to Twitch. The company has engaged our team to create a machine learning model to learn and categorized the data into sub forum to ensure users who are only interested in dota 2 can read and comment only in dota 2 forums without all the noise. My team and i will be constructing two categorical model which is mainly the Multinominal Naive Bayes and Logistic regression models. The success of this project would be to ensure the best model is able to at least be able to obtain more than 85% accuracy. \n",
    "\n",
    "Our audience would be software engineers, sales and marketing peers who will be working with us hand in hand to improve the forum and build on the improving the functionality as well as interesting added features that will be included at the end of the report. "
   ]
  },
  {
   "cell_type": "markdown",
   "id": "20183b83",
   "metadata": {},
   "source": [
    "## Data Collection\n",
    "\n",
    "For Data collection, my team and i will be collection a total of 1000 comments from each subreddit. We believe a total of 2000 comments is sufficient for us to determine key words that could help us in creating a model that can easily differentiate the two games. \n",
    "\n",
    "- Was data collected that was useful and relevant to the project?\n",
    "- Was data collection and storage optimized through custom functions, pipelines, and/or automation?\n",
    "- Was thought given to the server receiving the requests such as considering number of requests per second?"
   ]
  },
  {
   "cell_type": "code",
   "execution_count": 1,
   "id": "3b32b019",
   "metadata": {},
   "outputs": [],
   "source": [
    "import requests\n",
    "import pandas as pd"
   ]
  },
  {
   "cell_type": "code",
   "execution_count": 2,
   "id": "7e8b3ce2",
   "metadata": {},
   "outputs": [],
   "source": [
    "#Data collection using PushAPI\n",
    "def get_reddit(subreddit, pages):\n",
    "    url = 'https://api.pushshift.io/reddit/search/submission'\n",
    "    params = {\n",
    "        'subreddit': subreddit,\n",
    "        'size' : 100\n",
    "    }\n",
    "    \n",
    "    df_post = pd.DataFrame()\n",
    "    for i in range(0,pages):\n",
    "        if i>0:\n",
    "            params['before'] = df_post['created_utc'][len(df_post)-1]\n",
    "     \n",
    "        response = requests.get(url, params)\n",
    "        data=response.json()\n",
    "        df_post = df_post.append(data['data'], \n",
    "                                 ignore_index=True)\n",
    "        print (df_post.shape)\n",
    "    return df_post\n",
    "    \n",
    "    "
   ]
  },
  {
   "cell_type": "code",
   "execution_count": 3,
   "id": "9a7ca503",
   "metadata": {},
   "outputs": [
    {
     "name": "stdout",
     "output_type": "stream",
     "text": [
      "(100, 83)\n",
      "(200, 84)\n",
      "(300, 84)\n",
      "(399, 84)\n",
      "(498, 84)\n",
      "(598, 84)\n",
      "(698, 84)\n",
      "(798, 84)\n",
      "(898, 84)\n",
      "(998, 84)\n",
      "(1098, 84)\n",
      "(1198, 86)\n",
      "(1297, 86)\n",
      "(1397, 86)\n",
      "(1497, 86)\n",
      "(1597, 86)\n",
      "(1697, 86)\n",
      "(1797, 86)\n",
      "(1897, 86)\n",
      "(1997, 86)\n",
      "(2097, 86)\n",
      "(2197, 86)\n",
      "(2297, 86)\n",
      "(2397, 87)\n",
      "(2497, 87)\n",
      "(2597, 87)\n",
      "(2697, 87)\n",
      "(2797, 87)\n",
      "(2897, 87)\n",
      "(2997, 87)\n",
      "(3097, 87)\n",
      "(3197, 87)\n",
      "(3297, 87)\n",
      "(3397, 87)\n",
      "(3497, 87)\n",
      "(3597, 87)\n",
      "(3697, 87)\n",
      "(3797, 87)\n",
      "(3897, 87)\n",
      "(3997, 87)\n"
     ]
    }
   ],
   "source": [
    "#Collection of data for Dota 2\n",
    "dota_df = get_reddit('DotA2', 40)"
   ]
  },
  {
   "cell_type": "code",
   "execution_count": 4,
   "id": "0e89e899",
   "metadata": {},
   "outputs": [
    {
     "name": "stdout",
     "output_type": "stream",
     "text": [
      "(100, 74)\n",
      "(200, 76)\n",
      "(300, 78)\n",
      "(400, 78)\n",
      "(500, 78)\n",
      "(600, 78)\n",
      "(700, 78)\n",
      "(800, 78)\n",
      "(900, 79)\n",
      "(1000, 79)\n",
      "(1100, 79)\n",
      "(1200, 79)\n",
      "(1300, 80)\n",
      "(1400, 81)\n",
      "(1500, 81)\n",
      "(1600, 81)\n",
      "(1700, 81)\n",
      "(1800, 81)\n",
      "(1900, 81)\n",
      "(2000, 81)\n",
      "(2100, 81)\n",
      "(2200, 81)\n",
      "(2300, 81)\n",
      "(2399, 81)\n",
      "(2499, 81)\n",
      "(2599, 81)\n",
      "(2699, 81)\n",
      "(2799, 81)\n",
      "(2899, 81)\n",
      "(2999, 81)\n",
      "(3099, 81)\n",
      "(3199, 81)\n",
      "(3299, 81)\n",
      "(3399, 81)\n",
      "(3499, 81)\n",
      "(3599, 81)\n",
      "(3699, 81)\n",
      "(3799, 81)\n",
      "(3899, 81)\n",
      "(3999, 81)\n"
     ]
    }
   ],
   "source": [
    "#Collection of data for League of legends\n",
    "lol_df = get_reddit('leagueoflegends', 40)"
   ]
  },
  {
   "cell_type": "code",
   "execution_count": 5,
   "id": "ff122240",
   "metadata": {},
   "outputs": [],
   "source": [
    "dota_df.to_csv('dota_df.csv')\n",
    "lol_df.to_csv('lol_df.csv')"
   ]
  },
  {
   "cell_type": "code",
   "execution_count": null,
   "id": "243cd456",
   "metadata": {},
   "outputs": [],
   "source": []
  }
 ],
 "metadata": {
  "kernelspec": {
   "display_name": "Python 3 (ipykernel)",
   "language": "python",
   "name": "python3"
  },
  "language_info": {
   "codemirror_mode": {
    "name": "ipython",
    "version": 3
   },
   "file_extension": ".py",
   "mimetype": "text/x-python",
   "name": "python",
   "nbconvert_exporter": "python",
   "pygments_lexer": "ipython3",
   "version": "3.9.7"
  }
 },
 "nbformat": 4,
 "nbformat_minor": 5
}
